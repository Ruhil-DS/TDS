{
 "cells": [
  {
   "cell_type": "markdown",
   "id": "7d2c760f-064a-4a99-bac9-a8e4bb38c463",
   "metadata": {},
   "source": [
    "# Project 2: Tools in Data Science\n",
    "\n",
    "--INSTRUCTIONS:\n",
    "\n",
    "Please Upload the .csv file containing your answers to the questions asked below.\n",
    "While creating the csv file, ensure that:\n",
    "\n",
    "a. The csv file is utf-8 format\n",
    "\n",
    "b. For questions indicated with 'F', your answer is float and rounded to two decimal places. eg. 7.05\n",
    "\n",
    "c. For questions indicated with 'N', your answer is integer with no decimal places. eg .1298\n",
    "\n",
    "d. For questions indicated with 'S', you answer is string entered within double quotes . eg.\"Blue Whale\"\n",
    "\n",
    "e. Dataset to be referred will be mentioned in the square brackets for each question.eg [books.csv]\n",
    "\n",
    "f.  Answers in the csv file must follow the same order as asked in the problem statement below\n",
    "\n",
    "g. For Q14 (Textblob analysis) use non-null dataset , ie. remove the records for which 'original_title' is null\n",
    "\n",
    "--FILES :\n",
    "\n",
    "ratings.csv - contains ratings sorted by time.Ratings go from one to five. Both book IDs and user IDs are contiguous. For books, they are 1-10000, for users, 1-53424.\n",
    "to_read.csv - provides IDs of the books marked \"to read\" by each user, as user_id,book_id pairs, sorted by time.\n",
    "books.csv - has metadata for each book (goodreads IDs, authors, title, average rating, etc.). The metadata has been extracted from goodreads XML files.\n",
    "book_tags.csv - contains tags/shelves/genres assigned by users to books. Tags in this file are represented by their IDs. Each book_id has multiple tag_id.The field \"count\" denotes ‘user records’ (the number of users tagged the given tag_id with the goodreads_book_id).\n",
    "\n",
    "\n",
    "--SUBMISSION:\n",
    "\n",
    "A sample submission file for this is available in this url (copy paste the URL in a new tab) https://docs.google.com/spreadsheets/d/1ZwXzTez6NItzDm97P8tB5snSaVM13mscCbDuyk_NZjw/edit#gid=0\n",
    "\n",
    "--TROUBLESHOOT FOR WRONG ANSWERS:\n",
    "If there is any error indication in Test Run  please follow the below troubleshooting guide\n",
    "1. Check if the questions numbers in csv match with the question numbers in the portal.\n",
    "2. Check if the answer format (S/N/F) is accurate in the console post 'Test Run'.\n",
    "3. Check and remove if there are trailing whitespace in the answers provided in csv.\n",
    "4. If string answers contain comma, enter the string answer within double quotes, eg \"Third,wave\"\n",
    "\n",
    "\n",
    "--QUESTIONS:\n",
    "\n",
    "The data for this assignment can be accessed in the below link (copy paste the URL in a new tab).\n",
    "\n",
    "L31: Folder- 31617 , Link - https://drive.google.com/drive/folders/17IWSENkYtjFpUsUcxz_uKZRlQ8ZHsJUj?usp=sharing\n",
    "\n",
    "Q2: How many unique books are present in the dataset ? Evaluate based on the 'book_id'? [books.csv] (N)\n",
    "\n",
    "Q4: Which book (title) has the maximum number of ratings based on (work_ratings_count) [books.csv] ? (S)\n",
    "\n",
    "Q8: Which is the least used tag, i.e. mapped with the lowest number of books [book_tags.csv]? (In case of more than one tag, mention the tag id with the least numerical value) (N)\n",
    "\n",
    "Q1: How many books do not have an original title [books.csv] ? (N)\n",
    "\n",
    "Q11: How many unique tags are there in the dataset [book_tags.csv] ? (N)\n",
    "\n",
    "Q9: Which book (title) has the minimum (average_rating) [books.csv], if more than 1 book have same average rating, sort the books by ['title'] in alphabetical order and use the first book in the sorted list? (S)\n",
    "\n",
    "Q7: Which book (goodreads_book_id) is marked as to-read by most users [books.csv,toread.csv] ? (N)\n",
    "\n",
    "Q5: Which (tag_id) is the most frequently used ie. mapped with the highest number of books [book_tags.csv] ? (In case of more than one tag, mention the tag id with the least numerical value) (N)\n",
    "\n",
    "Q3: How many unique users are present in the dataset [ratings.csv] ? (N)\n",
    "\n",
    "Q14: Predict sentiment using Textblob. How many positive titles (original_title) are there [books.csv] ? (cut-off >=0) N"
   ]
  },
  {
   "cell_type": "code",
   "execution_count": 1,
   "id": "f7dba914-6271-40c4-888d-2fa24814c54d",
   "metadata": {},
   "outputs": [],
   "source": [
    "import numpy as np\n",
    "import pandas as pd"
   ]
  },
  {
   "cell_type": "code",
   "execution_count": 2,
   "id": "b2d33aab-5a86-4b41-856b-a5db34d31c6a",
   "metadata": {},
   "outputs": [],
   "source": [
    "books = pd.read_csv(\"31617/books.csv\")\n",
    "book_tags = pd.read_csv(\"31617/book_tags.csv\")\n",
    "ratings = pd.read_csv(\"31617/ratings.csv\")\n",
    "toread = pd.read_csv(\"31617/toread.csv\")"
   ]
  },
  {
   "cell_type": "code",
   "execution_count": 3,
   "id": "dfa1339f-97c6-420e-b92f-7e7fd1a26108",
   "metadata": {},
   "outputs": [],
   "source": [
    "answers = dict()"
   ]
  },
  {
   "cell_type": "markdown",
   "id": "434d1c64-192f-4841-9ed6-c7f7ce2665fc",
   "metadata": {},
   "source": [
    "# Q2: How many unique books are present in the dataset ? Evaluate based on the 'book_id'? [books.csv] (N)"
   ]
  },
  {
   "cell_type": "code",
   "execution_count": 3,
   "id": "eeed06e0-e2fb-4cf7-ac3c-c0fccff8fc1a",
   "metadata": {},
   "outputs": [
    {
     "data": {
      "text/html": [
       "<div>\n",
       "<style scoped>\n",
       "    .dataframe tbody tr th:only-of-type {\n",
       "        vertical-align: middle;\n",
       "    }\n",
       "\n",
       "    .dataframe tbody tr th {\n",
       "        vertical-align: top;\n",
       "    }\n",
       "\n",
       "    .dataframe thead th {\n",
       "        text-align: right;\n",
       "    }\n",
       "</style>\n",
       "<table border=\"1\" class=\"dataframe\">\n",
       "  <thead>\n",
       "    <tr style=\"text-align: right;\">\n",
       "      <th></th>\n",
       "      <th>book_id</th>\n",
       "      <th>goodreads_book_id</th>\n",
       "      <th>best_book_id</th>\n",
       "      <th>work_id</th>\n",
       "      <th>books_count</th>\n",
       "      <th>isbn</th>\n",
       "      <th>isbn13</th>\n",
       "      <th>authors</th>\n",
       "      <th>original_publication_year</th>\n",
       "      <th>original_title</th>\n",
       "      <th>...</th>\n",
       "      <th>ratings_count</th>\n",
       "      <th>work_ratings_count</th>\n",
       "      <th>work_text_reviews_count</th>\n",
       "      <th>ratings_1</th>\n",
       "      <th>ratings_2</th>\n",
       "      <th>ratings_3</th>\n",
       "      <th>ratings_4</th>\n",
       "      <th>ratings_5</th>\n",
       "      <th>image_url</th>\n",
       "      <th>small_image_url</th>\n",
       "    </tr>\n",
       "  </thead>\n",
       "  <tbody>\n",
       "    <tr>\n",
       "      <th>0</th>\n",
       "      <td>2</td>\n",
       "      <td>3</td>\n",
       "      <td>3</td>\n",
       "      <td>4640799</td>\n",
       "      <td>491</td>\n",
       "      <td>439554934</td>\n",
       "      <td>9.780440e+12</td>\n",
       "      <td>J.K. Rowling, Mary GrandPré</td>\n",
       "      <td>1997.0</td>\n",
       "      <td>Harry Potter and the Philosopher's Stone</td>\n",
       "      <td>...</td>\n",
       "      <td>4602479</td>\n",
       "      <td>4800065</td>\n",
       "      <td>75867</td>\n",
       "      <td>75504</td>\n",
       "      <td>101676</td>\n",
       "      <td>455024</td>\n",
       "      <td>1156318</td>\n",
       "      <td>3011543</td>\n",
       "      <td>https://images.gr-assets.com/books/1474154022m...</td>\n",
       "      <td>https://images.gr-assets.com/books/1474154022s...</td>\n",
       "    </tr>\n",
       "    <tr>\n",
       "      <th>1</th>\n",
       "      <td>3</td>\n",
       "      <td>41865</td>\n",
       "      <td>41865</td>\n",
       "      <td>3212258</td>\n",
       "      <td>226</td>\n",
       "      <td>316015849</td>\n",
       "      <td>9.780316e+12</td>\n",
       "      <td>Stephenie Meyer</td>\n",
       "      <td>2005.0</td>\n",
       "      <td>Twilight</td>\n",
       "      <td>...</td>\n",
       "      <td>3866839</td>\n",
       "      <td>3916824</td>\n",
       "      <td>95009</td>\n",
       "      <td>456191</td>\n",
       "      <td>436802</td>\n",
       "      <td>793319</td>\n",
       "      <td>875073</td>\n",
       "      <td>1355439</td>\n",
       "      <td>https://images.gr-assets.com/books/1361039443m...</td>\n",
       "      <td>https://images.gr-assets.com/books/1361039443s...</td>\n",
       "    </tr>\n",
       "    <tr>\n",
       "      <th>2</th>\n",
       "      <td>18</td>\n",
       "      <td>5</td>\n",
       "      <td>5</td>\n",
       "      <td>2402163</td>\n",
       "      <td>376</td>\n",
       "      <td>043965548X</td>\n",
       "      <td>9.780440e+12</td>\n",
       "      <td>J.K. Rowling, Mary GrandPré, Rufus Beck</td>\n",
       "      <td>1999.0</td>\n",
       "      <td>Harry Potter and the Prisoner of Azkaban</td>\n",
       "      <td>...</td>\n",
       "      <td>1832823</td>\n",
       "      <td>1969375</td>\n",
       "      <td>36099</td>\n",
       "      <td>6716</td>\n",
       "      <td>20413</td>\n",
       "      <td>166129</td>\n",
       "      <td>509447</td>\n",
       "      <td>1266670</td>\n",
       "      <td>https://images.gr-assets.com/books/1499277281m...</td>\n",
       "      <td>https://images.gr-assets.com/books/1499277281s...</td>\n",
       "    </tr>\n",
       "  </tbody>\n",
       "</table>\n",
       "<p>3 rows × 23 columns</p>\n",
       "</div>"
      ],
      "text/plain": [
       "   book_id  goodreads_book_id  best_book_id  work_id  books_count        isbn  \\\n",
       "0        2                  3             3  4640799          491   439554934   \n",
       "1        3              41865         41865  3212258          226   316015849   \n",
       "2       18                  5             5  2402163          376  043965548X   \n",
       "\n",
       "         isbn13                                  authors  \\\n",
       "0  9.780440e+12              J.K. Rowling, Mary GrandPré   \n",
       "1  9.780316e+12                          Stephenie Meyer   \n",
       "2  9.780440e+12  J.K. Rowling, Mary GrandPré, Rufus Beck   \n",
       "\n",
       "   original_publication_year                            original_title  ...  \\\n",
       "0                     1997.0  Harry Potter and the Philosopher's Stone  ...   \n",
       "1                     2005.0                                  Twilight  ...   \n",
       "2                     1999.0  Harry Potter and the Prisoner of Azkaban  ...   \n",
       "\n",
       "  ratings_count work_ratings_count  work_text_reviews_count  ratings_1  \\\n",
       "0       4602479            4800065                    75867      75504   \n",
       "1       3866839            3916824                    95009     456191   \n",
       "2       1832823            1969375                    36099       6716   \n",
       "\n",
       "   ratings_2  ratings_3  ratings_4  ratings_5  \\\n",
       "0     101676     455024    1156318    3011543   \n",
       "1     436802     793319     875073    1355439   \n",
       "2      20413     166129     509447    1266670   \n",
       "\n",
       "                                           image_url  \\\n",
       "0  https://images.gr-assets.com/books/1474154022m...   \n",
       "1  https://images.gr-assets.com/books/1361039443m...   \n",
       "2  https://images.gr-assets.com/books/1499277281m...   \n",
       "\n",
       "                                     small_image_url  \n",
       "0  https://images.gr-assets.com/books/1474154022s...  \n",
       "1  https://images.gr-assets.com/books/1361039443s...  \n",
       "2  https://images.gr-assets.com/books/1499277281s...  \n",
       "\n",
       "[3 rows x 23 columns]"
      ]
     },
     "execution_count": 3,
     "metadata": {},
     "output_type": "execute_result"
    }
   ],
   "source": [
    "books.head(3)"
   ]
  },
  {
   "cell_type": "code",
   "execution_count": 19,
   "id": "96ef1ffb-d081-4281-a1a7-9b026fe0a6b4",
   "metadata": {},
   "outputs": [
    {
     "data": {
      "text/plain": [
       "book_id                       0\n",
       "goodreads_book_id             0\n",
       "best_book_id                  0\n",
       "work_id                       0\n",
       "books_count                   0\n",
       "isbn                         86\n",
       "isbn13                       73\n",
       "authors                       0\n",
       "original_publication_year     3\n",
       "original_title               79\n",
       "title                         0\n",
       "language_code                84\n",
       "average_rating                0\n",
       "ratings_count                 0\n",
       "work_ratings_count            0\n",
       "work_text_reviews_count       0\n",
       "ratings_1                     0\n",
       "ratings_2                     0\n",
       "ratings_3                     0\n",
       "ratings_4                     0\n",
       "ratings_5                     0\n",
       "image_url                     0\n",
       "small_image_url               0\n",
       "dtype: int64"
      ]
     },
     "execution_count": 19,
     "metadata": {},
     "output_type": "execute_result"
    }
   ],
   "source": [
    "books.isnull().sum()"
   ]
  },
  {
   "cell_type": "code",
   "execution_count": 4,
   "id": "55838b56-17fe-4a8c-be6d-4570ea97116e",
   "metadata": {},
   "outputs": [
    {
     "data": {
      "text/plain": [
       "(1427, 23)"
      ]
     },
     "execution_count": 4,
     "metadata": {},
     "output_type": "execute_result"
    }
   ],
   "source": [
    "books.shape"
   ]
  },
  {
   "cell_type": "code",
   "execution_count": 15,
   "id": "8692ecea-f7e5-4468-86c7-6855214ba94b",
   "metadata": {},
   "outputs": [
    {
     "data": {
      "text/plain": [
       "1427"
      ]
     },
     "execution_count": 15,
     "metadata": {},
     "output_type": "execute_result"
    }
   ],
   "source": [
    "books.book_id.nunique()"
   ]
  },
  {
   "cell_type": "code",
   "execution_count": 7,
   "id": "e2af41b2-b671-499c-9ce3-0f1a0b95de8e",
   "metadata": {},
   "outputs": [
    {
     "data": {
      "text/plain": [
       "1341"
      ]
     },
     "execution_count": 7,
     "metadata": {},
     "output_type": "execute_result"
    }
   ],
   "source": [
    "books.isbn.nunique()"
   ]
  },
  {
   "cell_type": "code",
   "execution_count": 14,
   "id": "c595228d-d5fb-4adb-b50e-32ec7e610e7b",
   "metadata": {},
   "outputs": [
    {
     "data": {
      "text/plain": [
       "0"
      ]
     },
     "execution_count": 14,
     "metadata": {},
     "output_type": "execute_result"
    }
   ],
   "source": [
    "books.book_id.duplicated().sum()"
   ]
  },
  {
   "cell_type": "code",
   "execution_count": 20,
   "id": "3e9af04c-2485-444a-b1fa-d8d8190ae695",
   "metadata": {},
   "outputs": [],
   "source": [
    "answers['ans2'] = 1427"
   ]
  },
  {
   "cell_type": "markdown",
   "id": "a1ac6fb0-23b6-4a62-ba5b-becefd24f66c",
   "metadata": {},
   "source": [
    "# Q4: Which book (title) has the maximum number of ratings based on (work_ratings_count) [books.csv] ? (S)\n"
   ]
  },
  {
   "cell_type": "code",
   "execution_count": 26,
   "id": "b1c2e188-3f32-4f49-be5e-90341e44564b",
   "metadata": {},
   "outputs": [
    {
     "data": {
      "text/html": [
       "<div>\n",
       "<style scoped>\n",
       "    .dataframe tbody tr th:only-of-type {\n",
       "        vertical-align: middle;\n",
       "    }\n",
       "\n",
       "    .dataframe tbody tr th {\n",
       "        vertical-align: top;\n",
       "    }\n",
       "\n",
       "    .dataframe thead th {\n",
       "        text-align: right;\n",
       "    }\n",
       "</style>\n",
       "<table border=\"1\" class=\"dataframe\">\n",
       "  <thead>\n",
       "    <tr style=\"text-align: right;\">\n",
       "      <th></th>\n",
       "      <th>book_id</th>\n",
       "      <th>goodreads_book_id</th>\n",
       "      <th>best_book_id</th>\n",
       "      <th>work_id</th>\n",
       "      <th>books_count</th>\n",
       "      <th>isbn</th>\n",
       "      <th>isbn13</th>\n",
       "      <th>authors</th>\n",
       "      <th>original_publication_year</th>\n",
       "      <th>original_title</th>\n",
       "      <th>...</th>\n",
       "      <th>ratings_count</th>\n",
       "      <th>work_ratings_count</th>\n",
       "      <th>work_text_reviews_count</th>\n",
       "      <th>ratings_1</th>\n",
       "      <th>ratings_2</th>\n",
       "      <th>ratings_3</th>\n",
       "      <th>ratings_4</th>\n",
       "      <th>ratings_5</th>\n",
       "      <th>image_url</th>\n",
       "      <th>small_image_url</th>\n",
       "    </tr>\n",
       "  </thead>\n",
       "  <tbody>\n",
       "    <tr>\n",
       "      <th>0</th>\n",
       "      <td>2</td>\n",
       "      <td>3</td>\n",
       "      <td>3</td>\n",
       "      <td>4640799</td>\n",
       "      <td>491</td>\n",
       "      <td>439554934</td>\n",
       "      <td>9.780440e+12</td>\n",
       "      <td>J.K. Rowling, Mary GrandPré</td>\n",
       "      <td>1997.0</td>\n",
       "      <td>Harry Potter and the Philosopher's Stone</td>\n",
       "      <td>...</td>\n",
       "      <td>4602479</td>\n",
       "      <td>4800065</td>\n",
       "      <td>75867</td>\n",
       "      <td>75504</td>\n",
       "      <td>101676</td>\n",
       "      <td>455024</td>\n",
       "      <td>1156318</td>\n",
       "      <td>3011543</td>\n",
       "      <td>https://images.gr-assets.com/books/1474154022m...</td>\n",
       "      <td>https://images.gr-assets.com/books/1474154022s...</td>\n",
       "    </tr>\n",
       "    <tr>\n",
       "      <th>1</th>\n",
       "      <td>3</td>\n",
       "      <td>41865</td>\n",
       "      <td>41865</td>\n",
       "      <td>3212258</td>\n",
       "      <td>226</td>\n",
       "      <td>316015849</td>\n",
       "      <td>9.780316e+12</td>\n",
       "      <td>Stephenie Meyer</td>\n",
       "      <td>2005.0</td>\n",
       "      <td>Twilight</td>\n",
       "      <td>...</td>\n",
       "      <td>3866839</td>\n",
       "      <td>3916824</td>\n",
       "      <td>95009</td>\n",
       "      <td>456191</td>\n",
       "      <td>436802</td>\n",
       "      <td>793319</td>\n",
       "      <td>875073</td>\n",
       "      <td>1355439</td>\n",
       "      <td>https://images.gr-assets.com/books/1361039443m...</td>\n",
       "      <td>https://images.gr-assets.com/books/1361039443s...</td>\n",
       "    </tr>\n",
       "    <tr>\n",
       "      <th>2</th>\n",
       "      <td>18</td>\n",
       "      <td>5</td>\n",
       "      <td>5</td>\n",
       "      <td>2402163</td>\n",
       "      <td>376</td>\n",
       "      <td>043965548X</td>\n",
       "      <td>9.780440e+12</td>\n",
       "      <td>J.K. Rowling, Mary GrandPré, Rufus Beck</td>\n",
       "      <td>1999.0</td>\n",
       "      <td>Harry Potter and the Prisoner of Azkaban</td>\n",
       "      <td>...</td>\n",
       "      <td>1832823</td>\n",
       "      <td>1969375</td>\n",
       "      <td>36099</td>\n",
       "      <td>6716</td>\n",
       "      <td>20413</td>\n",
       "      <td>166129</td>\n",
       "      <td>509447</td>\n",
       "      <td>1266670</td>\n",
       "      <td>https://images.gr-assets.com/books/1499277281m...</td>\n",
       "      <td>https://images.gr-assets.com/books/1499277281s...</td>\n",
       "    </tr>\n",
       "  </tbody>\n",
       "</table>\n",
       "<p>3 rows × 23 columns</p>\n",
       "</div>"
      ],
      "text/plain": [
       "   book_id  goodreads_book_id  best_book_id  work_id  books_count        isbn  \\\n",
       "0        2                  3             3  4640799          491   439554934   \n",
       "1        3              41865         41865  3212258          226   316015849   \n",
       "2       18                  5             5  2402163          376  043965548X   \n",
       "\n",
       "         isbn13                                  authors  \\\n",
       "0  9.780440e+12              J.K. Rowling, Mary GrandPré   \n",
       "1  9.780316e+12                          Stephenie Meyer   \n",
       "2  9.780440e+12  J.K. Rowling, Mary GrandPré, Rufus Beck   \n",
       "\n",
       "   original_publication_year                            original_title  ...  \\\n",
       "0                     1997.0  Harry Potter and the Philosopher's Stone  ...   \n",
       "1                     2005.0                                  Twilight  ...   \n",
       "2                     1999.0  Harry Potter and the Prisoner of Azkaban  ...   \n",
       "\n",
       "  ratings_count work_ratings_count  work_text_reviews_count  ratings_1  \\\n",
       "0       4602479            4800065                    75867      75504   \n",
       "1       3866839            3916824                    95009     456191   \n",
       "2       1832823            1969375                    36099       6716   \n",
       "\n",
       "   ratings_2  ratings_3  ratings_4  ratings_5  \\\n",
       "0     101676     455024    1156318    3011543   \n",
       "1     436802     793319     875073    1355439   \n",
       "2      20413     166129     509447    1266670   \n",
       "\n",
       "                                           image_url  \\\n",
       "0  https://images.gr-assets.com/books/1474154022m...   \n",
       "1  https://images.gr-assets.com/books/1361039443m...   \n",
       "2  https://images.gr-assets.com/books/1499277281m...   \n",
       "\n",
       "                                     small_image_url  \n",
       "0  https://images.gr-assets.com/books/1474154022s...  \n",
       "1  https://images.gr-assets.com/books/1361039443s...  \n",
       "2  https://images.gr-assets.com/books/1499277281s...  \n",
       "\n",
       "[3 rows x 23 columns]"
      ]
     },
     "execution_count": 26,
     "metadata": {},
     "output_type": "execute_result"
    }
   ],
   "source": [
    "books.head(3)"
   ]
  },
  {
   "cell_type": "code",
   "execution_count": 29,
   "id": "eac07e0d-663d-4b8f-9f25-4246ad342f33",
   "metadata": {},
   "outputs": [
    {
     "data": {
      "text/plain": [
       "0    Harry Potter and the Philosopher's Stone\n",
       "Name: original_title, dtype: object"
      ]
     },
     "execution_count": 29,
     "metadata": {},
     "output_type": "execute_result"
    }
   ],
   "source": [
    "books[books.work_ratings_count == books.work_ratings_count.max()].original_title"
   ]
  },
  {
   "cell_type": "code",
   "execution_count": 30,
   "id": "c419e6cd-9cef-4a79-b7a7-0ad45b5dcad2",
   "metadata": {},
   "outputs": [],
   "source": [
    "answers['ans4'] = \"Harry Potter and the Philosopher's Stone\""
   ]
  },
  {
   "cell_type": "markdown",
   "id": "50f508d9-ee96-4b99-9a4e-82b8f4be3c57",
   "metadata": {},
   "source": [
    "# Q8: Which is the least used tag, i.e. mapped with the lowest number of books [book_tags.csv]? (In case of more than one tag, mention the tag id with the least numerical value) (N)"
   ]
  },
  {
   "cell_type": "markdown",
   "id": "bacccea5-9301-4f15-9411-6c72108a705f",
   "metadata": {},
   "source": [
    "## CHECK ANSWER"
   ]
  },
  {
   "cell_type": "code",
   "execution_count": 199,
   "id": "7cf77fb8-e495-4f40-9512-f84e62866981",
   "metadata": {},
   "outputs": [
    {
     "data": {
      "text/html": [
       "<div>\n",
       "<style scoped>\n",
       "    .dataframe tbody tr th:only-of-type {\n",
       "        vertical-align: middle;\n",
       "    }\n",
       "\n",
       "    .dataframe tbody tr th {\n",
       "        vertical-align: top;\n",
       "    }\n",
       "\n",
       "    .dataframe thead th {\n",
       "        text-align: right;\n",
       "    }\n",
       "</style>\n",
       "<table border=\"1\" class=\"dataframe\">\n",
       "  <thead>\n",
       "    <tr style=\"text-align: right;\">\n",
       "      <th></th>\n",
       "      <th>goodreads_book_id</th>\n",
       "      <th>tag_id</th>\n",
       "      <th>count</th>\n",
       "    </tr>\n",
       "  </thead>\n",
       "  <tbody>\n",
       "    <tr>\n",
       "      <th>61594</th>\n",
       "      <td>2029927</td>\n",
       "      <td>23</td>\n",
       "      <td>9</td>\n",
       "    </tr>\n",
       "  </tbody>\n",
       "</table>\n",
       "</div>"
      ],
      "text/plain": [
       "       goodreads_book_id  tag_id  count\n",
       "61594            2029927      23      9"
      ]
     },
     "execution_count": 199,
     "metadata": {},
     "output_type": "execute_result"
    }
   ],
   "source": [
    "book_tags[book_tags.tag_id == 23]"
   ]
  },
  {
   "cell_type": "code",
   "execution_count": 5,
   "id": "a3883255",
   "metadata": {},
   "outputs": [
    {
     "data": {
      "text/plain": [
       "Index(['goodreads_book_id', 'tag_id', 'count'], dtype='object')"
      ]
     },
     "execution_count": 5,
     "metadata": {},
     "output_type": "execute_result"
    }
   ],
   "source": [
    "book_tags.columns"
   ]
  },
  {
   "cell_type": "code",
   "execution_count": 16,
   "id": "131529ff",
   "metadata": {},
   "outputs": [
    {
     "data": {
      "text/html": [
       "<div>\n",
       "<style scoped>\n",
       "    .dataframe tbody tr th:only-of-type {\n",
       "        vertical-align: middle;\n",
       "    }\n",
       "\n",
       "    .dataframe tbody tr th {\n",
       "        vertical-align: top;\n",
       "    }\n",
       "\n",
       "    .dataframe thead th {\n",
       "        text-align: right;\n",
       "    }\n",
       "</style>\n",
       "<table border=\"1\" class=\"dataframe\">\n",
       "  <thead>\n",
       "    <tr style=\"text-align: right;\">\n",
       "      <th></th>\n",
       "      <th>goodreads_book_id</th>\n",
       "      <th>count</th>\n",
       "    </tr>\n",
       "    <tr>\n",
       "      <th>tag_id</th>\n",
       "      <th></th>\n",
       "      <th></th>\n",
       "    </tr>\n",
       "  </thead>\n",
       "  <tbody>\n",
       "    <tr>\n",
       "      <th>23</th>\n",
       "      <td>1</td>\n",
       "      <td>1</td>\n",
       "    </tr>\n",
       "    <tr>\n",
       "      <th>25</th>\n",
       "      <td>1</td>\n",
       "      <td>1</td>\n",
       "    </tr>\n",
       "    <tr>\n",
       "      <th>27</th>\n",
       "      <td>4</td>\n",
       "      <td>4</td>\n",
       "    </tr>\n",
       "    <tr>\n",
       "      <th>34</th>\n",
       "      <td>1</td>\n",
       "      <td>1</td>\n",
       "    </tr>\n",
       "    <tr>\n",
       "      <th>41</th>\n",
       "      <td>1</td>\n",
       "      <td>1</td>\n",
       "    </tr>\n",
       "    <tr>\n",
       "      <th>...</th>\n",
       "      <td>...</td>\n",
       "      <td>...</td>\n",
       "    </tr>\n",
       "    <tr>\n",
       "      <th>34244</th>\n",
       "      <td>1</td>\n",
       "      <td>1</td>\n",
       "    </tr>\n",
       "    <tr>\n",
       "      <th>34247</th>\n",
       "      <td>1</td>\n",
       "      <td>1</td>\n",
       "    </tr>\n",
       "    <tr>\n",
       "      <th>34248</th>\n",
       "      <td>2</td>\n",
       "      <td>2</td>\n",
       "    </tr>\n",
       "    <tr>\n",
       "      <th>34250</th>\n",
       "      <td>1</td>\n",
       "      <td>1</td>\n",
       "    </tr>\n",
       "    <tr>\n",
       "      <th>34251</th>\n",
       "      <td>1</td>\n",
       "      <td>1</td>\n",
       "    </tr>\n",
       "  </tbody>\n",
       "</table>\n",
       "<p>5243 rows × 2 columns</p>\n",
       "</div>"
      ],
      "text/plain": [
       "        goodreads_book_id  count\n",
       "tag_id                          \n",
       "23                      1      1\n",
       "25                      1      1\n",
       "27                      4      4\n",
       "34                      1      1\n",
       "41                      1      1\n",
       "...                   ...    ...\n",
       "34244                   1      1\n",
       "34247                   1      1\n",
       "34248                   2      2\n",
       "34250                   1      1\n",
       "34251                   1      1\n",
       "\n",
       "[5243 rows x 2 columns]"
      ]
     },
     "execution_count": 16,
     "metadata": {},
     "output_type": "execute_result"
    }
   ],
   "source": [
    "book_tags.groupby('tag_id').agg('count').sort_index()"
   ]
  },
  {
   "cell_type": "code",
   "execution_count": 4,
   "id": "d9f4d6a9-0999-4932-b59a-4ad65cfb6073",
   "metadata": {},
   "outputs": [
    {
     "data": {
      "text/html": [
       "<div>\n",
       "<style scoped>\n",
       "    .dataframe tbody tr th:only-of-type {\n",
       "        vertical-align: middle;\n",
       "    }\n",
       "\n",
       "    .dataframe tbody tr th {\n",
       "        vertical-align: top;\n",
       "    }\n",
       "\n",
       "    .dataframe thead th {\n",
       "        text-align: right;\n",
       "    }\n",
       "</style>\n",
       "<table border=\"1\" class=\"dataframe\">\n",
       "  <thead>\n",
       "    <tr style=\"text-align: right;\">\n",
       "      <th></th>\n",
       "      <th>goodreads_book_id</th>\n",
       "      <th>tag_id</th>\n",
       "      <th>count</th>\n",
       "    </tr>\n",
       "  </thead>\n",
       "  <tbody>\n",
       "    <tr>\n",
       "      <th>91090</th>\n",
       "      <td>7557548</td>\n",
       "      <td>66</td>\n",
       "      <td>1</td>\n",
       "    </tr>\n",
       "    <tr>\n",
       "      <th>47892</th>\n",
       "      <td>320700</td>\n",
       "      <td>73</td>\n",
       "      <td>1</td>\n",
       "    </tr>\n",
       "    <tr>\n",
       "      <th>76781</th>\n",
       "      <td>6167746</td>\n",
       "      <td>117</td>\n",
       "      <td>1</td>\n",
       "    </tr>\n",
       "    <tr>\n",
       "      <th>102573</th>\n",
       "      <td>8724779</td>\n",
       "      <td>121</td>\n",
       "      <td>1</td>\n",
       "    </tr>\n",
       "    <tr>\n",
       "      <th>23669</th>\n",
       "      <td>52629</td>\n",
       "      <td>129</td>\n",
       "      <td>1</td>\n",
       "    </tr>\n",
       "    <tr>\n",
       "      <th>...</th>\n",
       "      <td>...</td>\n",
       "      <td>...</td>\n",
       "      <td>...</td>\n",
       "    </tr>\n",
       "    <tr>\n",
       "      <th>142200</th>\n",
       "      <td>29056083</td>\n",
       "      <td>30574</td>\n",
       "      <td>248603</td>\n",
       "    </tr>\n",
       "    <tr>\n",
       "      <th>99200</th>\n",
       "      <td>8490112</td>\n",
       "      <td>30574</td>\n",
       "      <td>255961</td>\n",
       "    </tr>\n",
       "    <tr>\n",
       "      <th>35100</th>\n",
       "      <td>119322</td>\n",
       "      <td>30574</td>\n",
       "      <td>276683</td>\n",
       "    </tr>\n",
       "    <tr>\n",
       "      <th>112900</th>\n",
       "      <td>11235712</td>\n",
       "      <td>30574</td>\n",
       "      <td>474954</td>\n",
       "    </tr>\n",
       "    <tr>\n",
       "      <th>200</th>\n",
       "      <td>3</td>\n",
       "      <td>30574</td>\n",
       "      <td>496107</td>\n",
       "    </tr>\n",
       "  </tbody>\n",
       "</table>\n",
       "<p>142700 rows × 3 columns</p>\n",
       "</div>"
      ],
      "text/plain": [
       "        goodreads_book_id  tag_id   count\n",
       "91090             7557548      66       1\n",
       "47892              320700      73       1\n",
       "76781             6167746     117       1\n",
       "102573            8724779     121       1\n",
       "23669               52629     129       1\n",
       "...                   ...     ...     ...\n",
       "142200           29056083   30574  248603\n",
       "99200             8490112   30574  255961\n",
       "35100              119322   30574  276683\n",
       "112900           11235712   30574  474954\n",
       "200                     3   30574  496107\n",
       "\n",
       "[142700 rows x 3 columns]"
      ]
     },
     "execution_count": 4,
     "metadata": {},
     "output_type": "execute_result"
    }
   ],
   "source": [
    "book_tags.sort_values(by=['count','tag_id'])"
   ]
  },
  {
   "cell_type": "code",
   "execution_count": 185,
   "id": "fa131556-ca12-4033-8889-2e63c7d83d29",
   "metadata": {},
   "outputs": [
    {
     "data": {
      "text/html": [
       "<div>\n",
       "<style scoped>\n",
       "    .dataframe tbody tr th:only-of-type {\n",
       "        vertical-align: middle;\n",
       "    }\n",
       "\n",
       "    .dataframe tbody tr th {\n",
       "        vertical-align: top;\n",
       "    }\n",
       "\n",
       "    .dataframe thead th {\n",
       "        text-align: right;\n",
       "    }\n",
       "</style>\n",
       "<table border=\"1\" class=\"dataframe\">\n",
       "  <thead>\n",
       "    <tr style=\"text-align: right;\">\n",
       "      <th></th>\n",
       "      <th>goodreads_book_id</th>\n",
       "      <th>tag_id</th>\n",
       "      <th>count</th>\n",
       "    </tr>\n",
       "  </thead>\n",
       "  <tbody>\n",
       "    <tr>\n",
       "      <th>91090</th>\n",
       "      <td>7557548</td>\n",
       "      <td>66</td>\n",
       "      <td>1</td>\n",
       "    </tr>\n",
       "    <tr>\n",
       "      <th>47892</th>\n",
       "      <td>320700</td>\n",
       "      <td>73</td>\n",
       "      <td>1</td>\n",
       "    </tr>\n",
       "    <tr>\n",
       "      <th>76781</th>\n",
       "      <td>6167746</td>\n",
       "      <td>117</td>\n",
       "      <td>1</td>\n",
       "    </tr>\n",
       "    <tr>\n",
       "      <th>102573</th>\n",
       "      <td>8724779</td>\n",
       "      <td>121</td>\n",
       "      <td>1</td>\n",
       "    </tr>\n",
       "    <tr>\n",
       "      <th>23669</th>\n",
       "      <td>52629</td>\n",
       "      <td>129</td>\n",
       "      <td>1</td>\n",
       "    </tr>\n",
       "    <tr>\n",
       "      <th>...</th>\n",
       "      <td>...</td>\n",
       "      <td>...</td>\n",
       "      <td>...</td>\n",
       "    </tr>\n",
       "    <tr>\n",
       "      <th>142200</th>\n",
       "      <td>29056083</td>\n",
       "      <td>30574</td>\n",
       "      <td>248603</td>\n",
       "    </tr>\n",
       "    <tr>\n",
       "      <th>99200</th>\n",
       "      <td>8490112</td>\n",
       "      <td>30574</td>\n",
       "      <td>255961</td>\n",
       "    </tr>\n",
       "    <tr>\n",
       "      <th>35100</th>\n",
       "      <td>119322</td>\n",
       "      <td>30574</td>\n",
       "      <td>276683</td>\n",
       "    </tr>\n",
       "    <tr>\n",
       "      <th>112900</th>\n",
       "      <td>11235712</td>\n",
       "      <td>30574</td>\n",
       "      <td>474954</td>\n",
       "    </tr>\n",
       "    <tr>\n",
       "      <th>200</th>\n",
       "      <td>3</td>\n",
       "      <td>30574</td>\n",
       "      <td>496107</td>\n",
       "    </tr>\n",
       "  </tbody>\n",
       "</table>\n",
       "<p>142700 rows × 3 columns</p>\n",
       "</div>"
      ],
      "text/plain": [
       "        goodreads_book_id  tag_id   count\n",
       "91090             7557548      66       1\n",
       "47892              320700      73       1\n",
       "76781             6167746     117       1\n",
       "102573            8724779     121       1\n",
       "23669               52629     129       1\n",
       "...                   ...     ...     ...\n",
       "142200           29056083   30574  248603\n",
       "99200             8490112   30574  255961\n",
       "35100              119322   30574  276683\n",
       "112900           11235712   30574  474954\n",
       "200                     3   30574  496107\n",
       "\n",
       "[142700 rows x 3 columns]"
      ]
     },
     "execution_count": 185,
     "metadata": {},
     "output_type": "execute_result"
    }
   ],
   "source": [
    "book_tags.sort_values(by=['count', 'tag_id'], ascending=True)"
   ]
  },
  {
   "cell_type": "code",
   "execution_count": 195,
   "id": "fadce677-6d7f-4fab-b99c-a8bc7088f888",
   "metadata": {},
   "outputs": [
    {
     "data": {
      "text/plain": [
       "902         1\n",
       "23103       1\n",
       "27675       1\n",
       "23040       1\n",
       "3245        1\n",
       "         ... \n",
       "22743    1422\n",
       "11743    1422\n",
       "11305    1424\n",
       "30574    1426\n",
       "31617    1427\n",
       "Name: tag_id, Length: 5243, dtype: int64"
      ]
     },
     "execution_count": 195,
     "metadata": {},
     "output_type": "execute_result"
    }
   ],
   "source": [
    "book_tags.tag_id.value_counts().sort_values()"
   ]
  },
  {
   "cell_type": "code",
   "execution_count": null,
   "id": "383982ab-68c5-4243-89c6-4177b4416ca9",
   "metadata": {},
   "outputs": [],
   "source": [
    "book_tags.head(2).sort_values(by=['count'], ascending=True)"
   ]
  },
  {
   "cell_type": "code",
   "execution_count": 187,
   "id": "c61ee7b0-1b3a-4da1-9c2d-5b4fe8351b40",
   "metadata": {},
   "outputs": [
    {
     "data": {
      "text/html": [
       "<div>\n",
       "<style scoped>\n",
       "    .dataframe tbody tr th:only-of-type {\n",
       "        vertical-align: middle;\n",
       "    }\n",
       "\n",
       "    .dataframe tbody tr th {\n",
       "        vertical-align: top;\n",
       "    }\n",
       "\n",
       "    .dataframe thead th {\n",
       "        text-align: right;\n",
       "    }\n",
       "</style>\n",
       "<table border=\"1\" class=\"dataframe\">\n",
       "  <thead>\n",
       "    <tr style=\"text-align: right;\">\n",
       "      <th></th>\n",
       "      <th>goodreads_book_id</th>\n",
       "      <th>tag_id</th>\n",
       "      <th>count</th>\n",
       "    </tr>\n",
       "  </thead>\n",
       "  <tbody>\n",
       "    <tr>\n",
       "      <th>91090</th>\n",
       "      <td>7557548</td>\n",
       "      <td>66</td>\n",
       "      <td>1</td>\n",
       "    </tr>\n",
       "    <tr>\n",
       "      <th>47892</th>\n",
       "      <td>320700</td>\n",
       "      <td>73</td>\n",
       "      <td>1</td>\n",
       "    </tr>\n",
       "    <tr>\n",
       "      <th>76781</th>\n",
       "      <td>6167746</td>\n",
       "      <td>117</td>\n",
       "      <td>1</td>\n",
       "    </tr>\n",
       "    <tr>\n",
       "      <th>102573</th>\n",
       "      <td>8724779</td>\n",
       "      <td>121</td>\n",
       "      <td>1</td>\n",
       "    </tr>\n",
       "    <tr>\n",
       "      <th>23669</th>\n",
       "      <td>52629</td>\n",
       "      <td>129</td>\n",
       "      <td>1</td>\n",
       "    </tr>\n",
       "    <tr>\n",
       "      <th>...</th>\n",
       "      <td>...</td>\n",
       "      <td>...</td>\n",
       "      <td>...</td>\n",
       "    </tr>\n",
       "    <tr>\n",
       "      <th>21484</th>\n",
       "      <td>43818</td>\n",
       "      <td>33210</td>\n",
       "      <td>1</td>\n",
       "    </tr>\n",
       "    <tr>\n",
       "      <th>21488</th>\n",
       "      <td>43818</td>\n",
       "      <td>33269</td>\n",
       "      <td>1</td>\n",
       "    </tr>\n",
       "    <tr>\n",
       "      <th>22679</th>\n",
       "      <td>47697</td>\n",
       "      <td>33301</td>\n",
       "      <td>1</td>\n",
       "    </tr>\n",
       "    <tr>\n",
       "      <th>63699</th>\n",
       "      <td>2358870</td>\n",
       "      <td>33952</td>\n",
       "      <td>1</td>\n",
       "    </tr>\n",
       "    <tr>\n",
       "      <th>20995</th>\n",
       "      <td>43797</td>\n",
       "      <td>34244</td>\n",
       "      <td>1</td>\n",
       "    </tr>\n",
       "  </tbody>\n",
       "</table>\n",
       "<p>579 rows × 3 columns</p>\n",
       "</div>"
      ],
      "text/plain": [
       "        goodreads_book_id  tag_id  count\n",
       "91090             7557548      66      1\n",
       "47892              320700      73      1\n",
       "76781             6167746     117      1\n",
       "102573            8724779     121      1\n",
       "23669               52629     129      1\n",
       "...                   ...     ...    ...\n",
       "21484               43818   33210      1\n",
       "21488               43818   33269      1\n",
       "22679               47697   33301      1\n",
       "63699             2358870   33952      1\n",
       "20995               43797   34244      1\n",
       "\n",
       "[579 rows x 3 columns]"
      ]
     },
     "execution_count": 187,
     "metadata": {},
     "output_type": "execute_result"
    }
   ],
   "source": [
    "book_tags[book_tags[\"count\"] == book_tags[\"count\"].min()].sort_values(by='tag_id')"
   ]
  },
  {
   "cell_type": "code",
   "execution_count": 42,
   "id": "24e08448-e75a-43f7-8246-05988a0d68d8",
   "metadata": {},
   "outputs": [],
   "source": [
    "answers['ans8'] = 66"
   ]
  },
  {
   "cell_type": "markdown",
   "id": "2ad9bcbd-27c6-4839-973d-57bbf21cd98d",
   "metadata": {},
   "source": [
    "# Q1: How many books do not have an original title [books.csv] ? (N)\n"
   ]
  },
  {
   "cell_type": "code",
   "execution_count": 43,
   "id": "7a12f933-0e8a-4b73-b481-f3ba8d6c8b58",
   "metadata": {},
   "outputs": [
    {
     "data": {
      "text/html": [
       "<div>\n",
       "<style scoped>\n",
       "    .dataframe tbody tr th:only-of-type {\n",
       "        vertical-align: middle;\n",
       "    }\n",
       "\n",
       "    .dataframe tbody tr th {\n",
       "        vertical-align: top;\n",
       "    }\n",
       "\n",
       "    .dataframe thead th {\n",
       "        text-align: right;\n",
       "    }\n",
       "</style>\n",
       "<table border=\"1\" class=\"dataframe\">\n",
       "  <thead>\n",
       "    <tr style=\"text-align: right;\">\n",
       "      <th></th>\n",
       "      <th>book_id</th>\n",
       "      <th>goodreads_book_id</th>\n",
       "      <th>best_book_id</th>\n",
       "      <th>work_id</th>\n",
       "      <th>books_count</th>\n",
       "      <th>isbn</th>\n",
       "      <th>isbn13</th>\n",
       "      <th>authors</th>\n",
       "      <th>original_publication_year</th>\n",
       "      <th>original_title</th>\n",
       "      <th>...</th>\n",
       "      <th>ratings_count</th>\n",
       "      <th>work_ratings_count</th>\n",
       "      <th>work_text_reviews_count</th>\n",
       "      <th>ratings_1</th>\n",
       "      <th>ratings_2</th>\n",
       "      <th>ratings_3</th>\n",
       "      <th>ratings_4</th>\n",
       "      <th>ratings_5</th>\n",
       "      <th>image_url</th>\n",
       "      <th>small_image_url</th>\n",
       "    </tr>\n",
       "  </thead>\n",
       "  <tbody>\n",
       "    <tr>\n",
       "      <th>0</th>\n",
       "      <td>2</td>\n",
       "      <td>3</td>\n",
       "      <td>3</td>\n",
       "      <td>4640799</td>\n",
       "      <td>491</td>\n",
       "      <td>439554934</td>\n",
       "      <td>9.780440e+12</td>\n",
       "      <td>J.K. Rowling, Mary GrandPré</td>\n",
       "      <td>1997.0</td>\n",
       "      <td>Harry Potter and the Philosopher's Stone</td>\n",
       "      <td>...</td>\n",
       "      <td>4602479</td>\n",
       "      <td>4800065</td>\n",
       "      <td>75867</td>\n",
       "      <td>75504</td>\n",
       "      <td>101676</td>\n",
       "      <td>455024</td>\n",
       "      <td>1156318</td>\n",
       "      <td>3011543</td>\n",
       "      <td>https://images.gr-assets.com/books/1474154022m...</td>\n",
       "      <td>https://images.gr-assets.com/books/1474154022s...</td>\n",
       "    </tr>\n",
       "    <tr>\n",
       "      <th>1</th>\n",
       "      <td>3</td>\n",
       "      <td>41865</td>\n",
       "      <td>41865</td>\n",
       "      <td>3212258</td>\n",
       "      <td>226</td>\n",
       "      <td>316015849</td>\n",
       "      <td>9.780316e+12</td>\n",
       "      <td>Stephenie Meyer</td>\n",
       "      <td>2005.0</td>\n",
       "      <td>Twilight</td>\n",
       "      <td>...</td>\n",
       "      <td>3866839</td>\n",
       "      <td>3916824</td>\n",
       "      <td>95009</td>\n",
       "      <td>456191</td>\n",
       "      <td>436802</td>\n",
       "      <td>793319</td>\n",
       "      <td>875073</td>\n",
       "      <td>1355439</td>\n",
       "      <td>https://images.gr-assets.com/books/1361039443m...</td>\n",
       "      <td>https://images.gr-assets.com/books/1361039443s...</td>\n",
       "    </tr>\n",
       "    <tr>\n",
       "      <th>2</th>\n",
       "      <td>18</td>\n",
       "      <td>5</td>\n",
       "      <td>5</td>\n",
       "      <td>2402163</td>\n",
       "      <td>376</td>\n",
       "      <td>043965548X</td>\n",
       "      <td>9.780440e+12</td>\n",
       "      <td>J.K. Rowling, Mary GrandPré, Rufus Beck</td>\n",
       "      <td>1999.0</td>\n",
       "      <td>Harry Potter and the Prisoner of Azkaban</td>\n",
       "      <td>...</td>\n",
       "      <td>1832823</td>\n",
       "      <td>1969375</td>\n",
       "      <td>36099</td>\n",
       "      <td>6716</td>\n",
       "      <td>20413</td>\n",
       "      <td>166129</td>\n",
       "      <td>509447</td>\n",
       "      <td>1266670</td>\n",
       "      <td>https://images.gr-assets.com/books/1499277281m...</td>\n",
       "      <td>https://images.gr-assets.com/books/1499277281s...</td>\n",
       "    </tr>\n",
       "  </tbody>\n",
       "</table>\n",
       "<p>3 rows × 23 columns</p>\n",
       "</div>"
      ],
      "text/plain": [
       "   book_id  goodreads_book_id  best_book_id  work_id  books_count        isbn  \\\n",
       "0        2                  3             3  4640799          491   439554934   \n",
       "1        3              41865         41865  3212258          226   316015849   \n",
       "2       18                  5             5  2402163          376  043965548X   \n",
       "\n",
       "         isbn13                                  authors  \\\n",
       "0  9.780440e+12              J.K. Rowling, Mary GrandPré   \n",
       "1  9.780316e+12                          Stephenie Meyer   \n",
       "2  9.780440e+12  J.K. Rowling, Mary GrandPré, Rufus Beck   \n",
       "\n",
       "   original_publication_year                            original_title  ...  \\\n",
       "0                     1997.0  Harry Potter and the Philosopher's Stone  ...   \n",
       "1                     2005.0                                  Twilight  ...   \n",
       "2                     1999.0  Harry Potter and the Prisoner of Azkaban  ...   \n",
       "\n",
       "  ratings_count work_ratings_count  work_text_reviews_count  ratings_1  \\\n",
       "0       4602479            4800065                    75867      75504   \n",
       "1       3866839            3916824                    95009     456191   \n",
       "2       1832823            1969375                    36099       6716   \n",
       "\n",
       "   ratings_2  ratings_3  ratings_4  ratings_5  \\\n",
       "0     101676     455024    1156318    3011543   \n",
       "1     436802     793319     875073    1355439   \n",
       "2      20413     166129     509447    1266670   \n",
       "\n",
       "                                           image_url  \\\n",
       "0  https://images.gr-assets.com/books/1474154022m...   \n",
       "1  https://images.gr-assets.com/books/1361039443m...   \n",
       "2  https://images.gr-assets.com/books/1499277281m...   \n",
       "\n",
       "                                     small_image_url  \n",
       "0  https://images.gr-assets.com/books/1474154022s...  \n",
       "1  https://images.gr-assets.com/books/1361039443s...  \n",
       "2  https://images.gr-assets.com/books/1499277281s...  \n",
       "\n",
       "[3 rows x 23 columns]"
      ]
     },
     "execution_count": 43,
     "metadata": {},
     "output_type": "execute_result"
    }
   ],
   "source": [
    "books.head(3)"
   ]
  },
  {
   "cell_type": "code",
   "execution_count": 50,
   "id": "900c8b33-919f-4fd2-a03e-3b7c52e01890",
   "metadata": {},
   "outputs": [
    {
     "data": {
      "text/plain": [
       "book_id                       0\n",
       "goodreads_book_id             0\n",
       "best_book_id                  0\n",
       "work_id                       0\n",
       "books_count                   0\n",
       "isbn                         86\n",
       "isbn13                       73\n",
       "authors                       0\n",
       "original_publication_year     3\n",
       "original_title               79\n",
       "title                         0\n",
       "language_code                84\n",
       "average_rating                0\n",
       "ratings_count                 0\n",
       "work_ratings_count            0\n",
       "work_text_reviews_count       0\n",
       "ratings_1                     0\n",
       "ratings_2                     0\n",
       "ratings_3                     0\n",
       "ratings_4                     0\n",
       "ratings_5                     0\n",
       "image_url                     0\n",
       "small_image_url               0\n",
       "dtype: int64"
      ]
     },
     "execution_count": 50,
     "metadata": {},
     "output_type": "execute_result"
    }
   ],
   "source": [
    "books.isnull().sum()"
   ]
  },
  {
   "cell_type": "code",
   "execution_count": 51,
   "id": "763999b2-8ea1-4a6e-b8e8-ae93b2063b52",
   "metadata": {},
   "outputs": [],
   "source": [
    "answers['ans1'] = 79"
   ]
  },
  {
   "cell_type": "markdown",
   "id": "37829042-dcb1-4ccb-b943-fa502ae075e1",
   "metadata": {},
   "source": [
    "# Q11: How many unique tags are there in the dataset [book_tags.csv] ? (N)\n"
   ]
  },
  {
   "cell_type": "code",
   "execution_count": 52,
   "id": "6b29e40e-4c3a-4c1c-9852-0e2d717c9796",
   "metadata": {},
   "outputs": [
    {
     "data": {
      "text/html": [
       "<div>\n",
       "<style scoped>\n",
       "    .dataframe tbody tr th:only-of-type {\n",
       "        vertical-align: middle;\n",
       "    }\n",
       "\n",
       "    .dataframe tbody tr th {\n",
       "        vertical-align: top;\n",
       "    }\n",
       "\n",
       "    .dataframe thead th {\n",
       "        text-align: right;\n",
       "    }\n",
       "</style>\n",
       "<table border=\"1\" class=\"dataframe\">\n",
       "  <thead>\n",
       "    <tr style=\"text-align: right;\">\n",
       "      <th></th>\n",
       "      <th>goodreads_book_id</th>\n",
       "      <th>tag_id</th>\n",
       "      <th>count</th>\n",
       "    </tr>\n",
       "  </thead>\n",
       "  <tbody>\n",
       "    <tr>\n",
       "      <th>0</th>\n",
       "      <td>1</td>\n",
       "      <td>30574</td>\n",
       "      <td>167697</td>\n",
       "    </tr>\n",
       "    <tr>\n",
       "      <th>1</th>\n",
       "      <td>1</td>\n",
       "      <td>11305</td>\n",
       "      <td>37174</td>\n",
       "    </tr>\n",
       "    <tr>\n",
       "      <th>2</th>\n",
       "      <td>1</td>\n",
       "      <td>11557</td>\n",
       "      <td>34173</td>\n",
       "    </tr>\n",
       "  </tbody>\n",
       "</table>\n",
       "</div>"
      ],
      "text/plain": [
       "   goodreads_book_id  tag_id   count\n",
       "0                  1   30574  167697\n",
       "1                  1   11305   37174\n",
       "2                  1   11557   34173"
      ]
     },
     "execution_count": 52,
     "metadata": {},
     "output_type": "execute_result"
    }
   ],
   "source": [
    "book_tags.head(3)"
   ]
  },
  {
   "cell_type": "code",
   "execution_count": 53,
   "id": "4c41208b-b944-469e-8e84-1f228a0a3378",
   "metadata": {},
   "outputs": [
    {
     "data": {
      "text/plain": [
       "5243"
      ]
     },
     "execution_count": 53,
     "metadata": {},
     "output_type": "execute_result"
    }
   ],
   "source": [
    "book_tags.tag_id.nunique()"
   ]
  },
  {
   "cell_type": "code",
   "execution_count": 54,
   "id": "8d7e9ab8-9e1b-41d5-8b2f-5efc75c4450d",
   "metadata": {},
   "outputs": [
    {
     "data": {
      "text/plain": [
       "(142700, 3)"
      ]
     },
     "execution_count": 54,
     "metadata": {},
     "output_type": "execute_result"
    }
   ],
   "source": [
    "book_tags.shape"
   ]
  },
  {
   "cell_type": "code",
   "execution_count": 55,
   "id": "a5a28050-9441-4c33-b3e9-d892eea61e34",
   "metadata": {},
   "outputs": [],
   "source": [
    "answers['ans11'] = 5243"
   ]
  },
  {
   "cell_type": "markdown",
   "id": "bca45cc6-ede7-463b-870b-08d51c570dd6",
   "metadata": {},
   "source": [
    "# Q9: Which book (title) has the minimum (average_rating) [books.csv], if more than 1 book have same average rating, sort the books by ['title'] in alphabetical order and use the first book in the sorted list? (S)\n"
   ]
  },
  {
   "cell_type": "code",
   "execution_count": 60,
   "id": "78bf8963-79f0-49fd-ad09-445ba8bbc787",
   "metadata": {},
   "outputs": [
    {
     "data": {
      "text/html": [
       "<div>\n",
       "<style scoped>\n",
       "    .dataframe tbody tr th:only-of-type {\n",
       "        vertical-align: middle;\n",
       "    }\n",
       "\n",
       "    .dataframe tbody tr th {\n",
       "        vertical-align: top;\n",
       "    }\n",
       "\n",
       "    .dataframe thead th {\n",
       "        text-align: right;\n",
       "    }\n",
       "</style>\n",
       "<table border=\"1\" class=\"dataframe\">\n",
       "  <thead>\n",
       "    <tr style=\"text-align: right;\">\n",
       "      <th></th>\n",
       "      <th>book_id</th>\n",
       "      <th>goodreads_book_id</th>\n",
       "      <th>best_book_id</th>\n",
       "      <th>work_id</th>\n",
       "      <th>books_count</th>\n",
       "      <th>isbn</th>\n",
       "      <th>isbn13</th>\n",
       "      <th>authors</th>\n",
       "      <th>original_publication_year</th>\n",
       "      <th>original_title</th>\n",
       "      <th>...</th>\n",
       "      <th>ratings_count</th>\n",
       "      <th>work_ratings_count</th>\n",
       "      <th>work_text_reviews_count</th>\n",
       "      <th>ratings_1</th>\n",
       "      <th>ratings_2</th>\n",
       "      <th>ratings_3</th>\n",
       "      <th>ratings_4</th>\n",
       "      <th>ratings_5</th>\n",
       "      <th>image_url</th>\n",
       "      <th>small_image_url</th>\n",
       "    </tr>\n",
       "  </thead>\n",
       "  <tbody>\n",
       "    <tr>\n",
       "      <th>0</th>\n",
       "      <td>2</td>\n",
       "      <td>3</td>\n",
       "      <td>3</td>\n",
       "      <td>4640799</td>\n",
       "      <td>491</td>\n",
       "      <td>439554934</td>\n",
       "      <td>9.780440e+12</td>\n",
       "      <td>J.K. Rowling, Mary GrandPré</td>\n",
       "      <td>1997.0</td>\n",
       "      <td>Harry Potter and the Philosopher's Stone</td>\n",
       "      <td>...</td>\n",
       "      <td>4602479</td>\n",
       "      <td>4800065</td>\n",
       "      <td>75867</td>\n",
       "      <td>75504</td>\n",
       "      <td>101676</td>\n",
       "      <td>455024</td>\n",
       "      <td>1156318</td>\n",
       "      <td>3011543</td>\n",
       "      <td>https://images.gr-assets.com/books/1474154022m...</td>\n",
       "      <td>https://images.gr-assets.com/books/1474154022s...</td>\n",
       "    </tr>\n",
       "  </tbody>\n",
       "</table>\n",
       "<p>1 rows × 23 columns</p>\n",
       "</div>"
      ],
      "text/plain": [
       "   book_id  goodreads_book_id  best_book_id  work_id  books_count       isbn  \\\n",
       "0        2                  3             3  4640799          491  439554934   \n",
       "\n",
       "         isbn13                      authors  original_publication_year  \\\n",
       "0  9.780440e+12  J.K. Rowling, Mary GrandPré                     1997.0   \n",
       "\n",
       "                             original_title  ... ratings_count  \\\n",
       "0  Harry Potter and the Philosopher's Stone  ...       4602479   \n",
       "\n",
       "  work_ratings_count  work_text_reviews_count  ratings_1  ratings_2  \\\n",
       "0            4800065                    75867      75504     101676   \n",
       "\n",
       "   ratings_3  ratings_4  ratings_5  \\\n",
       "0     455024    1156318    3011543   \n",
       "\n",
       "                                           image_url  \\\n",
       "0  https://images.gr-assets.com/books/1474154022m...   \n",
       "\n",
       "                                     small_image_url  \n",
       "0  https://images.gr-assets.com/books/1474154022s...  \n",
       "\n",
       "[1 rows x 23 columns]"
      ]
     },
     "execution_count": 60,
     "metadata": {},
     "output_type": "execute_result"
    }
   ],
   "source": [
    "books.head(1)"
   ]
  },
  {
   "cell_type": "code",
   "execution_count": 72,
   "id": "f1d72ac5-da5c-42e5-adfb-8a1dc451ab69",
   "metadata": {},
   "outputs": [
    {
     "data": {
      "text/html": [
       "<div>\n",
       "<style scoped>\n",
       "    .dataframe tbody tr th:only-of-type {\n",
       "        vertical-align: middle;\n",
       "    }\n",
       "\n",
       "    .dataframe tbody tr th {\n",
       "        vertical-align: top;\n",
       "    }\n",
       "\n",
       "    .dataframe thead th {\n",
       "        text-align: right;\n",
       "    }\n",
       "</style>\n",
       "<table border=\"1\" class=\"dataframe\">\n",
       "  <thead>\n",
       "    <tr style=\"text-align: right;\">\n",
       "      <th></th>\n",
       "      <th>book_id</th>\n",
       "      <th>goodreads_book_id</th>\n",
       "      <th>best_book_id</th>\n",
       "      <th>work_id</th>\n",
       "      <th>books_count</th>\n",
       "      <th>isbn</th>\n",
       "      <th>isbn13</th>\n",
       "      <th>authors</th>\n",
       "      <th>original_publication_year</th>\n",
       "      <th>original_title</th>\n",
       "      <th>...</th>\n",
       "      <th>ratings_count</th>\n",
       "      <th>work_ratings_count</th>\n",
       "      <th>work_text_reviews_count</th>\n",
       "      <th>ratings_1</th>\n",
       "      <th>ratings_2</th>\n",
       "      <th>ratings_3</th>\n",
       "      <th>ratings_4</th>\n",
       "      <th>ratings_5</th>\n",
       "      <th>image_url</th>\n",
       "      <th>small_image_url</th>\n",
       "    </tr>\n",
       "  </thead>\n",
       "  <tbody>\n",
       "    <tr>\n",
       "      <th>1286</th>\n",
       "      <td>9021</td>\n",
       "      <td>24929</td>\n",
       "      <td>24929</td>\n",
       "      <td>1130986</td>\n",
       "      <td>18</td>\n",
       "      <td>60988649</td>\n",
       "      <td>9.780061e+12</td>\n",
       "      <td>Gregory Maguire, Douglas Smith</td>\n",
       "      <td>2001.0</td>\n",
       "      <td>Lost</td>\n",
       "      <td>...</td>\n",
       "      <td>12534</td>\n",
       "      <td>12937</td>\n",
       "      <td>921</td>\n",
       "      <td>1749</td>\n",
       "      <td>3377</td>\n",
       "      <td>4518</td>\n",
       "      <td>2237</td>\n",
       "      <td>1056</td>\n",
       "      <td>https://images.gr-assets.com/books/1407711681m...</td>\n",
       "      <td>https://images.gr-assets.com/books/1407711681s...</td>\n",
       "    </tr>\n",
       "  </tbody>\n",
       "</table>\n",
       "<p>1 rows × 23 columns</p>\n",
       "</div>"
      ],
      "text/plain": [
       "      book_id  goodreads_book_id  best_book_id  work_id  books_count  \\\n",
       "1286     9021              24929         24929  1130986           18   \n",
       "\n",
       "          isbn        isbn13                         authors  \\\n",
       "1286  60988649  9.780061e+12  Gregory Maguire, Douglas Smith   \n",
       "\n",
       "      original_publication_year original_title  ... ratings_count  \\\n",
       "1286                     2001.0           Lost  ...         12534   \n",
       "\n",
       "     work_ratings_count  work_text_reviews_count  ratings_1  ratings_2  \\\n",
       "1286              12937                      921       1749       3377   \n",
       "\n",
       "      ratings_3  ratings_4  ratings_5  \\\n",
       "1286       4518       2237       1056   \n",
       "\n",
       "                                              image_url  \\\n",
       "1286  https://images.gr-assets.com/books/1407711681m...   \n",
       "\n",
       "                                        small_image_url  \n",
       "1286  https://images.gr-assets.com/books/1407711681s...  \n",
       "\n",
       "[1 rows x 23 columns]"
      ]
     },
     "execution_count": 72,
     "metadata": {},
     "output_type": "execute_result"
    }
   ],
   "source": [
    "books[books.average_rating == books.average_rating.min()]"
   ]
  },
  {
   "cell_type": "code",
   "execution_count": 74,
   "id": "5c2c0d2d-198a-4af2-af82-492529d97d32",
   "metadata": {},
   "outputs": [
    {
     "data": {
      "text/html": [
       "<div>\n",
       "<style scoped>\n",
       "    .dataframe tbody tr th:only-of-type {\n",
       "        vertical-align: middle;\n",
       "    }\n",
       "\n",
       "    .dataframe tbody tr th {\n",
       "        vertical-align: top;\n",
       "    }\n",
       "\n",
       "    .dataframe thead th {\n",
       "        text-align: right;\n",
       "    }\n",
       "</style>\n",
       "<table border=\"1\" class=\"dataframe\">\n",
       "  <thead>\n",
       "    <tr style=\"text-align: right;\">\n",
       "      <th></th>\n",
       "      <th>title</th>\n",
       "      <th>average_rating</th>\n",
       "    </tr>\n",
       "  </thead>\n",
       "  <tbody>\n",
       "    <tr>\n",
       "      <th>1286</th>\n",
       "      <td>Lost</td>\n",
       "      <td>2.80</td>\n",
       "    </tr>\n",
       "    <tr>\n",
       "      <th>1163</th>\n",
       "      <td>Zone One</td>\n",
       "      <td>3.25</td>\n",
       "    </tr>\n",
       "    <tr>\n",
       "      <th>1048</th>\n",
       "      <td>Violin</td>\n",
       "      <td>3.26</td>\n",
       "    </tr>\n",
       "    <tr>\n",
       "      <th>1277</th>\n",
       "      <td>Ghostgirl (Ghostgirl, #1)</td>\n",
       "      <td>3.28</td>\n",
       "    </tr>\n",
       "    <tr>\n",
       "      <th>293</th>\n",
       "      <td>Dead Ever After (Sookie Stackhouse, #13)</td>\n",
       "      <td>3.39</td>\n",
       "    </tr>\n",
       "    <tr>\n",
       "      <th>...</th>\n",
       "      <td>...</td>\n",
       "      <td>...</td>\n",
       "    </tr>\n",
       "    <tr>\n",
       "      <th>1162</th>\n",
       "      <td>The Absolute Sandman, Volume One</td>\n",
       "      <td>4.65</td>\n",
       "    </tr>\n",
       "    <tr>\n",
       "      <th>309</th>\n",
       "      <td>The Harry Potter Collection 1-4 (Harry Potter,...</td>\n",
       "      <td>4.66</td>\n",
       "    </tr>\n",
       "    <tr>\n",
       "      <th>538</th>\n",
       "      <td>Harry Potter Collection (Harry Potter, #1-6)</td>\n",
       "      <td>4.73</td>\n",
       "    </tr>\n",
       "    <tr>\n",
       "      <th>63</th>\n",
       "      <td>Harry Potter Boxset (Harry Potter, #1-7)</td>\n",
       "      <td>4.74</td>\n",
       "    </tr>\n",
       "    <tr>\n",
       "      <th>471</th>\n",
       "      <td>Harry Potter Boxed Set, Books 1-5 (Harry Potte...</td>\n",
       "      <td>4.77</td>\n",
       "    </tr>\n",
       "  </tbody>\n",
       "</table>\n",
       "<p>1427 rows × 2 columns</p>\n",
       "</div>"
      ],
      "text/plain": [
       "                                                  title  average_rating\n",
       "1286                                               Lost            2.80\n",
       "1163                                           Zone One            3.25\n",
       "1048                                             Violin            3.26\n",
       "1277                          Ghostgirl (Ghostgirl, #1)            3.28\n",
       "293            Dead Ever After (Sookie Stackhouse, #13)            3.39\n",
       "...                                                 ...             ...\n",
       "1162                   The Absolute Sandman, Volume One            4.65\n",
       "309   The Harry Potter Collection 1-4 (Harry Potter,...            4.66\n",
       "538        Harry Potter Collection (Harry Potter, #1-6)            4.73\n",
       "63             Harry Potter Boxset (Harry Potter, #1-7)            4.74\n",
       "471   Harry Potter Boxed Set, Books 1-5 (Harry Potte...            4.77\n",
       "\n",
       "[1427 rows x 2 columns]"
      ]
     },
     "execution_count": 74,
     "metadata": {},
     "output_type": "execute_result"
    }
   ],
   "source": [
    "books.sort_values(by='average_rating')[['title', 'average_rating']]"
   ]
  },
  {
   "cell_type": "code",
   "execution_count": 75,
   "id": "5926cdd8-b432-4ecd-8499-7a9ff7f38748",
   "metadata": {},
   "outputs": [],
   "source": [
    "answers['ans9'] = \"Lost\""
   ]
  },
  {
   "cell_type": "markdown",
   "id": "e0477150-b99d-4d24-ab67-80c3b491a500",
   "metadata": {},
   "source": [
    "# Q7: Which book (goodreads_book_id) is marked as to-read by most users [books.csv,toread.csv] ? (N)\n"
   ]
  },
  {
   "cell_type": "code",
   "execution_count": 77,
   "id": "341e8b83-cb0a-482d-8498-8c0fc37be297",
   "metadata": {},
   "outputs": [
    {
     "data": {
      "text/html": [
       "<div>\n",
       "<style scoped>\n",
       "    .dataframe tbody tr th:only-of-type {\n",
       "        vertical-align: middle;\n",
       "    }\n",
       "\n",
       "    .dataframe tbody tr th {\n",
       "        vertical-align: top;\n",
       "    }\n",
       "\n",
       "    .dataframe thead th {\n",
       "        text-align: right;\n",
       "    }\n",
       "</style>\n",
       "<table border=\"1\" class=\"dataframe\">\n",
       "  <thead>\n",
       "    <tr style=\"text-align: right;\">\n",
       "      <th></th>\n",
       "      <th>book_id</th>\n",
       "      <th>goodreads_book_id</th>\n",
       "      <th>best_book_id</th>\n",
       "      <th>work_id</th>\n",
       "      <th>books_count</th>\n",
       "      <th>isbn</th>\n",
       "      <th>isbn13</th>\n",
       "      <th>authors</th>\n",
       "      <th>original_publication_year</th>\n",
       "      <th>original_title</th>\n",
       "      <th>...</th>\n",
       "      <th>ratings_count</th>\n",
       "      <th>work_ratings_count</th>\n",
       "      <th>work_text_reviews_count</th>\n",
       "      <th>ratings_1</th>\n",
       "      <th>ratings_2</th>\n",
       "      <th>ratings_3</th>\n",
       "      <th>ratings_4</th>\n",
       "      <th>ratings_5</th>\n",
       "      <th>image_url</th>\n",
       "      <th>small_image_url</th>\n",
       "    </tr>\n",
       "  </thead>\n",
       "  <tbody>\n",
       "    <tr>\n",
       "      <th>0</th>\n",
       "      <td>2</td>\n",
       "      <td>3</td>\n",
       "      <td>3</td>\n",
       "      <td>4640799</td>\n",
       "      <td>491</td>\n",
       "      <td>439554934</td>\n",
       "      <td>9.780440e+12</td>\n",
       "      <td>J.K. Rowling, Mary GrandPré</td>\n",
       "      <td>1997.0</td>\n",
       "      <td>Harry Potter and the Philosopher's Stone</td>\n",
       "      <td>...</td>\n",
       "      <td>4602479</td>\n",
       "      <td>4800065</td>\n",
       "      <td>75867</td>\n",
       "      <td>75504</td>\n",
       "      <td>101676</td>\n",
       "      <td>455024</td>\n",
       "      <td>1156318</td>\n",
       "      <td>3011543</td>\n",
       "      <td>https://images.gr-assets.com/books/1474154022m...</td>\n",
       "      <td>https://images.gr-assets.com/books/1474154022s...</td>\n",
       "    </tr>\n",
       "    <tr>\n",
       "      <th>1</th>\n",
       "      <td>3</td>\n",
       "      <td>41865</td>\n",
       "      <td>41865</td>\n",
       "      <td>3212258</td>\n",
       "      <td>226</td>\n",
       "      <td>316015849</td>\n",
       "      <td>9.780316e+12</td>\n",
       "      <td>Stephenie Meyer</td>\n",
       "      <td>2005.0</td>\n",
       "      <td>Twilight</td>\n",
       "      <td>...</td>\n",
       "      <td>3866839</td>\n",
       "      <td>3916824</td>\n",
       "      <td>95009</td>\n",
       "      <td>456191</td>\n",
       "      <td>436802</td>\n",
       "      <td>793319</td>\n",
       "      <td>875073</td>\n",
       "      <td>1355439</td>\n",
       "      <td>https://images.gr-assets.com/books/1361039443m...</td>\n",
       "      <td>https://images.gr-assets.com/books/1361039443s...</td>\n",
       "    </tr>\n",
       "  </tbody>\n",
       "</table>\n",
       "<p>2 rows × 23 columns</p>\n",
       "</div>"
      ],
      "text/plain": [
       "   book_id  goodreads_book_id  best_book_id  work_id  books_count       isbn  \\\n",
       "0        2                  3             3  4640799          491  439554934   \n",
       "1        3              41865         41865  3212258          226  316015849   \n",
       "\n",
       "         isbn13                      authors  original_publication_year  \\\n",
       "0  9.780440e+12  J.K. Rowling, Mary GrandPré                     1997.0   \n",
       "1  9.780316e+12              Stephenie Meyer                     2005.0   \n",
       "\n",
       "                             original_title  ... ratings_count  \\\n",
       "0  Harry Potter and the Philosopher's Stone  ...       4602479   \n",
       "1                                  Twilight  ...       3866839   \n",
       "\n",
       "  work_ratings_count  work_text_reviews_count  ratings_1  ratings_2  \\\n",
       "0            4800065                    75867      75504     101676   \n",
       "1            3916824                    95009     456191     436802   \n",
       "\n",
       "   ratings_3  ratings_4  ratings_5  \\\n",
       "0     455024    1156318    3011543   \n",
       "1     793319     875073    1355439   \n",
       "\n",
       "                                           image_url  \\\n",
       "0  https://images.gr-assets.com/books/1474154022m...   \n",
       "1  https://images.gr-assets.com/books/1361039443m...   \n",
       "\n",
       "                                     small_image_url  \n",
       "0  https://images.gr-assets.com/books/1474154022s...  \n",
       "1  https://images.gr-assets.com/books/1361039443s...  \n",
       "\n",
       "[2 rows x 23 columns]"
      ]
     },
     "execution_count": 77,
     "metadata": {},
     "output_type": "execute_result"
    }
   ],
   "source": [
    "books.head(2)"
   ]
  },
  {
   "cell_type": "code",
   "execution_count": 78,
   "id": "9ed84894-d9cc-4e80-a52f-50a6a0d7dfb8",
   "metadata": {},
   "outputs": [
    {
     "data": {
      "text/html": [
       "<div>\n",
       "<style scoped>\n",
       "    .dataframe tbody tr th:only-of-type {\n",
       "        vertical-align: middle;\n",
       "    }\n",
       "\n",
       "    .dataframe tbody tr th {\n",
       "        vertical-align: top;\n",
       "    }\n",
       "\n",
       "    .dataframe thead th {\n",
       "        text-align: right;\n",
       "    }\n",
       "</style>\n",
       "<table border=\"1\" class=\"dataframe\">\n",
       "  <thead>\n",
       "    <tr style=\"text-align: right;\">\n",
       "      <th></th>\n",
       "      <th>user_id</th>\n",
       "      <th>book_id</th>\n",
       "    </tr>\n",
       "  </thead>\n",
       "  <tbody>\n",
       "    <tr>\n",
       "      <th>0</th>\n",
       "      <td>124</td>\n",
       "      <td>682</td>\n",
       "    </tr>\n",
       "    <tr>\n",
       "      <th>1</th>\n",
       "      <td>207</td>\n",
       "      <td>25</td>\n",
       "    </tr>\n",
       "  </tbody>\n",
       "</table>\n",
       "</div>"
      ],
      "text/plain": [
       "   user_id  book_id\n",
       "0      124      682\n",
       "1      207       25"
      ]
     },
     "execution_count": 78,
     "metadata": {},
     "output_type": "execute_result"
    }
   ],
   "source": [
    "toread.head(2)"
   ]
  },
  {
   "cell_type": "code",
   "execution_count": 79,
   "id": "3a91e541-2a51-4285-afea-c327555d4177",
   "metadata": {},
   "outputs": [
    {
     "data": {
      "text/plain": [
       "1427"
      ]
     },
     "execution_count": 79,
     "metadata": {},
     "output_type": "execute_result"
    }
   ],
   "source": [
    "toread.book_id.nunique()"
   ]
  },
  {
   "cell_type": "code",
   "execution_count": 80,
   "id": "0ff7966e-5ea8-480a-a05d-ac4600879553",
   "metadata": {},
   "outputs": [
    {
     "data": {
      "text/plain": [
       "(124767, 2)"
      ]
     },
     "execution_count": 80,
     "metadata": {},
     "output_type": "execute_result"
    }
   ],
   "source": [
    "toread.shape"
   ]
  },
  {
   "cell_type": "code",
   "execution_count": 93,
   "id": "dad8c63e-5bdd-4592-b87a-4c74135e7f0a",
   "metadata": {},
   "outputs": [],
   "source": [
    "most_toread = toread.groupby('book_id').agg(\"count\").sort_values(by='user_id', ascending=False).index[0]"
   ]
  },
  {
   "cell_type": "code",
   "execution_count": 99,
   "id": "8b48da16-6bb4-4b22-9276-c2b8f0271ddc",
   "metadata": {},
   "outputs": [
    {
     "data": {
      "text/html": [
       "<div>\n",
       "<style scoped>\n",
       "    .dataframe tbody tr th:only-of-type {\n",
       "        vertical-align: middle;\n",
       "    }\n",
       "\n",
       "    .dataframe tbody tr th {\n",
       "        vertical-align: top;\n",
       "    }\n",
       "\n",
       "    .dataframe thead th {\n",
       "        text-align: right;\n",
       "    }\n",
       "</style>\n",
       "<table border=\"1\" class=\"dataframe\">\n",
       "  <thead>\n",
       "    <tr style=\"text-align: right;\">\n",
       "      <th></th>\n",
       "      <th>book_id</th>\n",
       "      <th>goodreads_book_id</th>\n",
       "      <th>best_book_id</th>\n",
       "      <th>work_id</th>\n",
       "      <th>books_count</th>\n",
       "      <th>isbn</th>\n",
       "      <th>isbn13</th>\n",
       "      <th>authors</th>\n",
       "      <th>original_publication_year</th>\n",
       "      <th>original_title</th>\n",
       "      <th>...</th>\n",
       "      <th>ratings_count</th>\n",
       "      <th>work_ratings_count</th>\n",
       "      <th>work_text_reviews_count</th>\n",
       "      <th>ratings_1</th>\n",
       "      <th>ratings_2</th>\n",
       "      <th>ratings_3</th>\n",
       "      <th>ratings_4</th>\n",
       "      <th>ratings_5</th>\n",
       "      <th>image_url</th>\n",
       "      <th>small_image_url</th>\n",
       "    </tr>\n",
       "  </thead>\n",
       "  <tbody>\n",
       "    <tr>\n",
       "      <th>15</th>\n",
       "      <td>139</td>\n",
       "      <td>9460487</td>\n",
       "      <td>9460487</td>\n",
       "      <td>14345371</td>\n",
       "      <td>155</td>\n",
       "      <td>1594744769</td>\n",
       "      <td>9.781595e+12</td>\n",
       "      <td>Ransom Riggs</td>\n",
       "      <td>2011.0</td>\n",
       "      <td>Miss Peregrine’s Home for Peculiar Children</td>\n",
       "      <td>...</td>\n",
       "      <td>613674</td>\n",
       "      <td>672222</td>\n",
       "      <td>53569</td>\n",
       "      <td>14920</td>\n",
       "      <td>45434</td>\n",
       "      <td>159227</td>\n",
       "      <td>234792</td>\n",
       "      <td>217849</td>\n",
       "      <td>https://images.gr-assets.com/books/1472782916m...</td>\n",
       "      <td>https://images.gr-assets.com/books/1472782916s...</td>\n",
       "    </tr>\n",
       "  </tbody>\n",
       "</table>\n",
       "<p>1 rows × 23 columns</p>\n",
       "</div>"
      ],
      "text/plain": [
       "    book_id  goodreads_book_id  best_book_id   work_id  books_count  \\\n",
       "15      139            9460487       9460487  14345371          155   \n",
       "\n",
       "          isbn        isbn13       authors  original_publication_year  \\\n",
       "15  1594744769  9.781595e+12  Ransom Riggs                     2011.0   \n",
       "\n",
       "                                 original_title  ... ratings_count  \\\n",
       "15  Miss Peregrine’s Home for Peculiar Children  ...        613674   \n",
       "\n",
       "   work_ratings_count  work_text_reviews_count  ratings_1  ratings_2  \\\n",
       "15             672222                    53569      14920      45434   \n",
       "\n",
       "    ratings_3  ratings_4  ratings_5  \\\n",
       "15     159227     234792     217849   \n",
       "\n",
       "                                            image_url  \\\n",
       "15  https://images.gr-assets.com/books/1472782916m...   \n",
       "\n",
       "                                      small_image_url  \n",
       "15  https://images.gr-assets.com/books/1472782916s...  \n",
       "\n",
       "[1 rows x 23 columns]"
      ]
     },
     "execution_count": 99,
     "metadata": {},
     "output_type": "execute_result"
    }
   ],
   "source": [
    "books[books.book_id == most_toread]"
   ]
  },
  {
   "cell_type": "code",
   "execution_count": 101,
   "id": "1caf264f-4b0a-45f5-885c-e3d27f769670",
   "metadata": {},
   "outputs": [],
   "source": [
    "answers['ans7'] = 9460487"
   ]
  },
  {
   "cell_type": "markdown",
   "id": "81ea4d7d-61ae-454f-9693-4780817e7e73",
   "metadata": {},
   "source": [
    "# Q5: Which (tag_id) is the most frequently used ie. mapped with the highest number of books [book_tags.csv] ? (In case of more than one tag, mention the tag id with the least numerical value) (N)\n"
   ]
  },
  {
   "cell_type": "markdown",
   "id": "2c6e5d94-3693-403c-856d-c6b9b4bf84a4",
   "metadata": {},
   "source": [
    "## ANSWER CHECK"
   ]
  },
  {
   "cell_type": "code",
   "execution_count": 111,
   "id": "b6153e3e-d8d5-49fd-bf94-a299826c1402",
   "metadata": {},
   "outputs": [
    {
     "data": {
      "text/html": [
       "<div>\n",
       "<style scoped>\n",
       "    .dataframe tbody tr th:only-of-type {\n",
       "        vertical-align: middle;\n",
       "    }\n",
       "\n",
       "    .dataframe tbody tr th {\n",
       "        vertical-align: top;\n",
       "    }\n",
       "\n",
       "    .dataframe thead th {\n",
       "        text-align: right;\n",
       "    }\n",
       "</style>\n",
       "<table border=\"1\" class=\"dataframe\">\n",
       "  <thead>\n",
       "    <tr style=\"text-align: right;\">\n",
       "      <th></th>\n",
       "      <th>goodreads_book_id</th>\n",
       "      <th>count</th>\n",
       "    </tr>\n",
       "    <tr>\n",
       "      <th>tag_id</th>\n",
       "      <th></th>\n",
       "      <th></th>\n",
       "    </tr>\n",
       "  </thead>\n",
       "  <tbody>\n",
       "    <tr>\n",
       "      <th>30574</th>\n",
       "      <td>8594175934</td>\n",
       "      <td>20490280</td>\n",
       "    </tr>\n",
       "    <tr>\n",
       "      <th>11305</th>\n",
       "      <td>8591260328</td>\n",
       "      <td>1605506</td>\n",
       "    </tr>\n",
       "    <tr>\n",
       "      <th>11557</th>\n",
       "      <td>8578888434</td>\n",
       "      <td>1137333</td>\n",
       "    </tr>\n",
       "    <tr>\n",
       "      <th>8717</th>\n",
       "      <td>8379668596</td>\n",
       "      <td>1031392</td>\n",
       "    </tr>\n",
       "    <tr>\n",
       "      <th>33114</th>\n",
       "      <td>6082478389</td>\n",
       "      <td>697478</td>\n",
       "    </tr>\n",
       "    <tr>\n",
       "      <th>...</th>\n",
       "      <td>...</td>\n",
       "      <td>...</td>\n",
       "    </tr>\n",
       "    <tr>\n",
       "      <th>14067</th>\n",
       "      <td>43818</td>\n",
       "      <td>1</td>\n",
       "    </tr>\n",
       "    <tr>\n",
       "      <th>31761</th>\n",
       "      <td>43818</td>\n",
       "      <td>1</td>\n",
       "    </tr>\n",
       "    <tr>\n",
       "      <th>31758</th>\n",
       "      <td>43818</td>\n",
       "      <td>1</td>\n",
       "    </tr>\n",
       "    <tr>\n",
       "      <th>28299</th>\n",
       "      <td>47697</td>\n",
       "      <td>1</td>\n",
       "    </tr>\n",
       "    <tr>\n",
       "      <th>24471</th>\n",
       "      <td>52629</td>\n",
       "      <td>1</td>\n",
       "    </tr>\n",
       "  </tbody>\n",
       "</table>\n",
       "<p>5243 rows × 2 columns</p>\n",
       "</div>"
      ],
      "text/plain": [
       "        goodreads_book_id     count\n",
       "tag_id                             \n",
       "30574          8594175934  20490280\n",
       "11305          8591260328   1605506\n",
       "11557          8578888434   1137333\n",
       "8717           8379668596   1031392\n",
       "33114          6082478389    697478\n",
       "...                   ...       ...\n",
       "14067               43818         1\n",
       "31761               43818         1\n",
       "31758               43818         1\n",
       "28299               47697         1\n",
       "24471               52629         1\n",
       "\n",
       "[5243 rows x 2 columns]"
      ]
     },
     "execution_count": 111,
     "metadata": {},
     "output_type": "execute_result"
    }
   ],
   "source": [
    "book_tags.groupby('tag_id').agg('sum').sort_values(by='count', ascending=False)"
   ]
  },
  {
   "cell_type": "code",
   "execution_count": 173,
   "id": "918a9302-074f-4754-ba12-3e986551c86a",
   "metadata": {},
   "outputs": [],
   "source": [
    "answers['ans5'] = 31617\n",
    "\n",
    "# 30574\n",
    "# or could be 31617 -- CORRECT"
   ]
  },
  {
   "cell_type": "code",
   "execution_count": 113,
   "id": "70351b5a-0cc8-4454-8d63-3525374c0ac9",
   "metadata": {},
   "outputs": [
    {
     "data": {
      "text/html": [
       "<div>\n",
       "<style scoped>\n",
       "    .dataframe tbody tr th:only-of-type {\n",
       "        vertical-align: middle;\n",
       "    }\n",
       "\n",
       "    .dataframe tbody tr th {\n",
       "        vertical-align: top;\n",
       "    }\n",
       "\n",
       "    .dataframe thead th {\n",
       "        text-align: right;\n",
       "    }\n",
       "</style>\n",
       "<table border=\"1\" class=\"dataframe\">\n",
       "  <thead>\n",
       "    <tr style=\"text-align: right;\">\n",
       "      <th></th>\n",
       "      <th>goodreads_book_id</th>\n",
       "      <th>count</th>\n",
       "    </tr>\n",
       "    <tr>\n",
       "      <th>tag_id</th>\n",
       "      <th></th>\n",
       "      <th></th>\n",
       "    </tr>\n",
       "  </thead>\n",
       "  <tbody>\n",
       "    <tr>\n",
       "      <th>31617</th>\n",
       "      <td>1427</td>\n",
       "      <td>1427</td>\n",
       "    </tr>\n",
       "    <tr>\n",
       "      <th>30574</th>\n",
       "      <td>1426</td>\n",
       "      <td>1426</td>\n",
       "    </tr>\n",
       "    <tr>\n",
       "      <th>11305</th>\n",
       "      <td>1424</td>\n",
       "      <td>1424</td>\n",
       "    </tr>\n",
       "    <tr>\n",
       "      <th>22743</th>\n",
       "      <td>1422</td>\n",
       "      <td>1422</td>\n",
       "    </tr>\n",
       "    <tr>\n",
       "      <th>11743</th>\n",
       "      <td>1422</td>\n",
       "      <td>1422</td>\n",
       "    </tr>\n",
       "    <tr>\n",
       "      <th>...</th>\n",
       "      <td>...</td>\n",
       "      <td>...</td>\n",
       "    </tr>\n",
       "    <tr>\n",
       "      <th>15873</th>\n",
       "      <td>1</td>\n",
       "      <td>1</td>\n",
       "    </tr>\n",
       "    <tr>\n",
       "      <th>15887</th>\n",
       "      <td>1</td>\n",
       "      <td>1</td>\n",
       "    </tr>\n",
       "    <tr>\n",
       "      <th>15899</th>\n",
       "      <td>1</td>\n",
       "      <td>1</td>\n",
       "    </tr>\n",
       "    <tr>\n",
       "      <th>15953</th>\n",
       "      <td>1</td>\n",
       "      <td>1</td>\n",
       "    </tr>\n",
       "    <tr>\n",
       "      <th>34251</th>\n",
       "      <td>1</td>\n",
       "      <td>1</td>\n",
       "    </tr>\n",
       "  </tbody>\n",
       "</table>\n",
       "<p>5243 rows × 2 columns</p>\n",
       "</div>"
      ],
      "text/plain": [
       "        goodreads_book_id  count\n",
       "tag_id                          \n",
       "31617                1427   1427\n",
       "30574                1426   1426\n",
       "11305                1424   1424\n",
       "22743                1422   1422\n",
       "11743                1422   1422\n",
       "...                   ...    ...\n",
       "15873                   1      1\n",
       "15887                   1      1\n",
       "15899                   1      1\n",
       "15953                   1      1\n",
       "34251                   1      1\n",
       "\n",
       "[5243 rows x 2 columns]"
      ]
     },
     "execution_count": 113,
     "metadata": {},
     "output_type": "execute_result"
    }
   ],
   "source": [
    "book_tags.groupby('tag_id').agg('count').sort_values(by='count', ascending=False)"
   ]
  },
  {
   "cell_type": "markdown",
   "id": "c2ce60ee-bf85-4e70-92f9-4ea2c0e59cb3",
   "metadata": {},
   "source": [
    "# Q3: How many unique users are present in the dataset [ratings.csv] ? (N)\n"
   ]
  },
  {
   "cell_type": "code",
   "execution_count": 115,
   "id": "c2d13323-7d12-443b-b9c3-8a25098cda0e",
   "metadata": {},
   "outputs": [
    {
     "data": {
      "text/html": [
       "<div>\n",
       "<style scoped>\n",
       "    .dataframe tbody tr th:only-of-type {\n",
       "        vertical-align: middle;\n",
       "    }\n",
       "\n",
       "    .dataframe tbody tr th {\n",
       "        vertical-align: top;\n",
       "    }\n",
       "\n",
       "    .dataframe thead th {\n",
       "        text-align: right;\n",
       "    }\n",
       "</style>\n",
       "<table border=\"1\" class=\"dataframe\">\n",
       "  <thead>\n",
       "    <tr style=\"text-align: right;\">\n",
       "      <th></th>\n",
       "      <th>user_id</th>\n",
       "      <th>book_id</th>\n",
       "      <th>rating</th>\n",
       "    </tr>\n",
       "  </thead>\n",
       "  <tbody>\n",
       "    <tr>\n",
       "      <th>0</th>\n",
       "      <td>2</td>\n",
       "      <td>3753</td>\n",
       "      <td>5</td>\n",
       "    </tr>\n",
       "    <tr>\n",
       "      <th>1</th>\n",
       "      <td>4</td>\n",
       "      <td>18</td>\n",
       "      <td>5</td>\n",
       "    </tr>\n",
       "    <tr>\n",
       "      <th>2</th>\n",
       "      <td>4</td>\n",
       "      <td>27</td>\n",
       "      <td>5</td>\n",
       "    </tr>\n",
       "  </tbody>\n",
       "</table>\n",
       "</div>"
      ],
      "text/plain": [
       "   user_id  book_id  rating\n",
       "0        2     3753       5\n",
       "1        4       18       5\n",
       "2        4       27       5"
      ]
     },
     "execution_count": 115,
     "metadata": {},
     "output_type": "execute_result"
    }
   ],
   "source": [
    "ratings.head(3)"
   ]
  },
  {
   "cell_type": "code",
   "execution_count": 116,
   "id": "a66720a7-53ae-44b4-a08e-267a638ce1a4",
   "metadata": {},
   "outputs": [
    {
     "data": {
      "text/plain": [
       "user_id    48878\n",
       "book_id     1427\n",
       "rating         5\n",
       "dtype: int64"
      ]
     },
     "execution_count": 116,
     "metadata": {},
     "output_type": "execute_result"
    }
   ],
   "source": [
    "ratings.nunique()"
   ]
  },
  {
   "cell_type": "code",
   "execution_count": 117,
   "id": "861c3dba-a882-460a-8ba2-cc0c132e3d25",
   "metadata": {},
   "outputs": [
    {
     "data": {
      "text/plain": [
       "(895856, 3)"
      ]
     },
     "execution_count": 117,
     "metadata": {},
     "output_type": "execute_result"
    }
   ],
   "source": [
    "ratings.shape"
   ]
  },
  {
   "cell_type": "code",
   "execution_count": 118,
   "id": "e26a2394-efc8-4414-9b28-7100b5a94cd0",
   "metadata": {},
   "outputs": [],
   "source": [
    "answers['ans3'] = 48878"
   ]
  },
  {
   "cell_type": "markdown",
   "id": "8532aba6-b70d-45f3-9f90-c16a68466731",
   "metadata": {},
   "source": [
    "# Q14: Predict sentiment using Textblob. How many positive titles (original_title) are there [books.csv] ? (cut-off >=0) N\n"
   ]
  },
  {
   "cell_type": "code",
   "execution_count": 134,
   "id": "57f786f0-85a2-4b24-a307-da075fbcb864",
   "metadata": {},
   "outputs": [],
   "source": [
    "from textblob import TextBlob\n"
   ]
  },
  {
   "cell_type": "code",
   "execution_count": 135,
   "id": "80f9051d-4d01-4967-9b2d-a12f0ef26c43",
   "metadata": {},
   "outputs": [
    {
     "data": {
      "text/plain": [
       "book_id                       0\n",
       "goodreads_book_id             0\n",
       "best_book_id                  0\n",
       "work_id                       0\n",
       "books_count                   0\n",
       "isbn                         86\n",
       "isbn13                       73\n",
       "authors                       0\n",
       "original_publication_year     3\n",
       "original_title               79\n",
       "title                         0\n",
       "language_code                84\n",
       "average_rating                0\n",
       "ratings_count                 0\n",
       "work_ratings_count            0\n",
       "work_text_reviews_count       0\n",
       "ratings_1                     0\n",
       "ratings_2                     0\n",
       "ratings_3                     0\n",
       "ratings_4                     0\n",
       "ratings_5                     0\n",
       "image_url                     0\n",
       "small_image_url               0\n",
       "dtype: int64"
      ]
     },
     "execution_count": 135,
     "metadata": {},
     "output_type": "execute_result"
    }
   ],
   "source": [
    "books.isnull().sum()"
   ]
  },
  {
   "cell_type": "code",
   "execution_count": 136,
   "id": "6b5cf613-750f-4b6a-a73a-9b5e250d8ecc",
   "metadata": {},
   "outputs": [
    {
     "data": {
      "text/plain": [
       "(1427, 23)"
      ]
     },
     "execution_count": 136,
     "metadata": {},
     "output_type": "execute_result"
    }
   ],
   "source": [
    "books.shape"
   ]
  },
  {
   "cell_type": "code",
   "execution_count": 137,
   "id": "3fcaacab-7db4-4b66-8cbd-cfa1fa3ac641",
   "metadata": {},
   "outputs": [],
   "source": [
    "books.dropna(subset=['original_title'], axis=0, inplace = True)"
   ]
  },
  {
   "cell_type": "code",
   "execution_count": 138,
   "id": "c385464f-9047-4dbb-b2a5-7abaa11c9390",
   "metadata": {},
   "outputs": [
    {
     "data": {
      "text/plain": [
       "(1348, 23)"
      ]
     },
     "execution_count": 138,
     "metadata": {},
     "output_type": "execute_result"
    }
   ],
   "source": [
    "books.shape"
   ]
  },
  {
   "cell_type": "code",
   "execution_count": 139,
   "id": "adbae63c-83ec-4cd0-b61f-c4872c6320bd",
   "metadata": {},
   "outputs": [],
   "source": [
    "books['TextBlob_Subjectivity'] = books['original_title'].apply(lambda x: TextBlob(x).sentiment.subjectivity)\n",
    "books['TextBlob_Polarity'] = books['original_title'].apply(lambda x: TextBlob(x).sentiment.polarity)"
   ]
  },
  {
   "cell_type": "code",
   "execution_count": 149,
   "id": "2a5fa90d-9771-4b25-b7b1-fa537b2bfb56",
   "metadata": {},
   "outputs": [],
   "source": [
    "books['TextBlob_Analysis'] = books['TextBlob_Polarity'].apply(\n",
    "    lambda x: \"positive\" if x>=0 else \"negative\"\n",
    ")"
   ]
  },
  {
   "cell_type": "code",
   "execution_count": 150,
   "id": "20f72d21-bfb3-43ea-892a-963da3544b80",
   "metadata": {},
   "outputs": [],
   "source": [
    "q14 = books[['original_title', 'TextBlob_Subjectivity', 'TextBlob_Polarity', 'TextBlob_Analysis']]"
   ]
  },
  {
   "cell_type": "code",
   "execution_count": 151,
   "id": "6e34baa8-1798-44fc-a8d0-54442093cd1c",
   "metadata": {},
   "outputs": [
    {
     "data": {
      "text/html": [
       "<div>\n",
       "<style scoped>\n",
       "    .dataframe tbody tr th:only-of-type {\n",
       "        vertical-align: middle;\n",
       "    }\n",
       "\n",
       "    .dataframe tbody tr th {\n",
       "        vertical-align: top;\n",
       "    }\n",
       "\n",
       "    .dataframe thead th {\n",
       "        text-align: right;\n",
       "    }\n",
       "</style>\n",
       "<table border=\"1\" class=\"dataframe\">\n",
       "  <thead>\n",
       "    <tr style=\"text-align: right;\">\n",
       "      <th></th>\n",
       "      <th>original_title</th>\n",
       "      <th>TextBlob_Subjectivity</th>\n",
       "      <th>TextBlob_Polarity</th>\n",
       "    </tr>\n",
       "    <tr>\n",
       "      <th>TextBlob_Analysis</th>\n",
       "      <th></th>\n",
       "      <th></th>\n",
       "      <th></th>\n",
       "    </tr>\n",
       "  </thead>\n",
       "  <tbody>\n",
       "    <tr>\n",
       "      <th>negative</th>\n",
       "      <td>155</td>\n",
       "      <td>155</td>\n",
       "      <td>155</td>\n",
       "    </tr>\n",
       "    <tr>\n",
       "      <th>positive</th>\n",
       "      <td>1193</td>\n",
       "      <td>1193</td>\n",
       "      <td>1193</td>\n",
       "    </tr>\n",
       "  </tbody>\n",
       "</table>\n",
       "</div>"
      ],
      "text/plain": [
       "                   original_title  TextBlob_Subjectivity  TextBlob_Polarity\n",
       "TextBlob_Analysis                                                          \n",
       "negative                      155                    155                155\n",
       "positive                     1193                   1193               1193"
      ]
     },
     "execution_count": 151,
     "metadata": {},
     "output_type": "execute_result"
    }
   ],
   "source": [
    "q14.groupby('TextBlob_Analysis').agg('count')"
   ]
  },
  {
   "cell_type": "code",
   "execution_count": 152,
   "id": "88ac8714-4248-4376-b902-7489b750c477",
   "metadata": {},
   "outputs": [],
   "source": [
    "answers['ans14'] = 1193"
   ]
  },
  {
   "cell_type": "code",
   "execution_count": 153,
   "id": "24dadafe-f063-4859-8b57-b259f952a0fd",
   "metadata": {},
   "outputs": [
    {
     "data": {
      "text/plain": [
       "{'ans2': 1427,\n",
       " 'ans4': \"Harry Potter and the Philosopher's Stone\",\n",
       " 'ans8': 66,\n",
       " 'ans1': 79,\n",
       " 'ans11': 5243,\n",
       " 'ans9': 'Lost',\n",
       " 'ans7': 9460487,\n",
       " 'ans5': 30574,\n",
       " 'ans3': 48878,\n",
       " 'ans14': 1193}"
      ]
     },
     "execution_count": 153,
     "metadata": {},
     "output_type": "execute_result"
    }
   ],
   "source": [
    "answers"
   ]
  },
  {
   "cell_type": "code",
   "execution_count": 169,
   "id": "6d2a3dc1-a11b-4129-9814-9b6a5cc6c540",
   "metadata": {},
   "outputs": [],
   "source": [
    "submission = {\n",
    "    'Q2': answers['ans2'],\n",
    "    'Q4': answers['ans4'],\n",
    "    'Q8': answers['ans8'],\n",
    "    'Q1': answers['ans1'],\n",
    "    'Q11': answers['ans11'],\n",
    "    'Q9': answers['ans9'],\n",
    "    'Q7': answers['ans7'],\n",
    "    'Q5': answers['ans5'],\n",
    "    'Q3': answers['ans3'],\n",
    "    'Q14': answers['ans14']\n",
    "}"
   ]
  },
  {
   "cell_type": "code",
   "execution_count": 170,
   "id": "42abc0a5-53e0-4a70-b2ac-5415635423e5",
   "metadata": {},
   "outputs": [],
   "source": [
    "sub = pd.DataFrame.from_dict(submission, orient='index')"
   ]
  },
  {
   "cell_type": "code",
   "execution_count": 171,
   "id": "48062578-7a34-46dd-988c-475bc4071793",
   "metadata": {},
   "outputs": [
    {
     "data": {
      "text/html": [
       "<div>\n",
       "<style scoped>\n",
       "    .dataframe tbody tr th:only-of-type {\n",
       "        vertical-align: middle;\n",
       "    }\n",
       "\n",
       "    .dataframe tbody tr th {\n",
       "        vertical-align: top;\n",
       "    }\n",
       "\n",
       "    .dataframe thead th {\n",
       "        text-align: right;\n",
       "    }\n",
       "</style>\n",
       "<table border=\"1\" class=\"dataframe\">\n",
       "  <thead>\n",
       "    <tr style=\"text-align: right;\">\n",
       "      <th></th>\n",
       "      <th>0</th>\n",
       "    </tr>\n",
       "  </thead>\n",
       "  <tbody>\n",
       "    <tr>\n",
       "      <th>Q2</th>\n",
       "      <td>1427</td>\n",
       "    </tr>\n",
       "    <tr>\n",
       "      <th>Q4</th>\n",
       "      <td>Harry Potter and the Philosopher's Stone</td>\n",
       "    </tr>\n",
       "    <tr>\n",
       "      <th>Q8</th>\n",
       "      <td>66</td>\n",
       "    </tr>\n",
       "    <tr>\n",
       "      <th>Q1</th>\n",
       "      <td>79</td>\n",
       "    </tr>\n",
       "    <tr>\n",
       "      <th>Q11</th>\n",
       "      <td>5243</td>\n",
       "    </tr>\n",
       "    <tr>\n",
       "      <th>Q9</th>\n",
       "      <td>Lost</td>\n",
       "    </tr>\n",
       "    <tr>\n",
       "      <th>Q7</th>\n",
       "      <td>9460487</td>\n",
       "    </tr>\n",
       "    <tr>\n",
       "      <th>Q5</th>\n",
       "      <td>31617</td>\n",
       "    </tr>\n",
       "    <tr>\n",
       "      <th>Q3</th>\n",
       "      <td>48878</td>\n",
       "    </tr>\n",
       "    <tr>\n",
       "      <th>Q14</th>\n",
       "      <td>1193</td>\n",
       "    </tr>\n",
       "  </tbody>\n",
       "</table>\n",
       "</div>"
      ],
      "text/plain": [
       "                                            0\n",
       "Q2                                       1427\n",
       "Q4   Harry Potter and the Philosopher's Stone\n",
       "Q8                                         66\n",
       "Q1                                         79\n",
       "Q11                                      5243\n",
       "Q9                                       Lost\n",
       "Q7                                    9460487\n",
       "Q5                                      31617\n",
       "Q3                                      48878\n",
       "Q14                                      1193"
      ]
     },
     "execution_count": 171,
     "metadata": {},
     "output_type": "execute_result"
    }
   ],
   "source": [
    "sub"
   ]
  },
  {
   "cell_type": "code",
   "execution_count": 175,
   "id": "35d8b360-cf75-44ac-a076-131cb5d0783d",
   "metadata": {},
   "outputs": [],
   "source": [
    "sub.to_csv(\"submission.csv\", header=False)"
   ]
  }
 ],
 "metadata": {
  "kernelspec": {
   "display_name": "Python 3 (ipykernel)",
   "language": "python",
   "name": "python3"
  },
  "language_info": {
   "codemirror_mode": {
    "name": "ipython",
    "version": 3
   },
   "file_extension": ".py",
   "mimetype": "text/x-python",
   "name": "python",
   "nbconvert_exporter": "python",
   "pygments_lexer": "ipython3",
   "version": "3.9.13"
  },
  "toc": {
   "base_numbering": 1,
   "nav_menu": {},
   "number_sections": true,
   "sideBar": true,
   "skip_h1_title": false,
   "title_cell": "Table of Contents",
   "title_sidebar": "Contents",
   "toc_cell": false,
   "toc_position": {},
   "toc_section_display": true,
   "toc_window_display": false
  }
 },
 "nbformat": 4,
 "nbformat_minor": 5
}
