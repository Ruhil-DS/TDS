{
 "cells": [
  {
   "cell_type": "code",
   "execution_count": 1,
   "id": "db361eb1",
   "metadata": {},
   "outputs": [
    {
     "name": "stdout",
     "output_type": "stream",
     "text": [
      "IFCB2009_85.xlsx week2.ipynb\r\n"
     ]
    }
   ],
   "source": []
  },
  {
   "cell_type": "code",
   "execution_count": 3,
   "id": "18acd065",
   "metadata": {},
   "outputs": [
    {
     "name": "stdout",
     "output_type": "stream",
     "text": [
      "Requirement already satisfied: beautifulsoup4 in /Users/PushpakRuhil/opt/anaconda3/lib/python3.9/site-packages (4.11.1)\r\n",
      "Requirement already satisfied: soupsieve>1.2 in /Users/PushpakRuhil/opt/anaconda3/lib/python3.9/site-packages (from beautifulsoup4) (2.3.1)\r\n"
     ]
    }
   ],
   "source": [
    "!pip install beautifulsoup4"
   ]
  },
  {
   "cell_type": "code",
   "execution_count": 4,
   "id": "73957e88",
   "metadata": {},
   "outputs": [],
   "source": [
    "import pandas as pd\n",
    "import numpy as np"
   ]
  },
  {
   "cell_type": "code",
   "execution_count": 5,
   "id": "305cf7cb",
   "metadata": {},
   "outputs": [],
   "source": [
    "df = pd.read_excel(\"IFCB2009_85.xlsx\")"
   ]
  },
  {
   "cell_type": "code",
   "execution_count": 7,
   "id": "5ae70249",
   "metadata": {},
   "outputs": [
    {
     "data": {
      "text/plain": [
       "(591, 9)"
      ]
     },
     "execution_count": 7,
     "metadata": {},
     "output_type": "execute_result"
    }
   ],
   "source": [
    "df.shape"
   ]
  },
  {
   "cell_type": "code",
   "execution_count": 14,
   "id": "f9652725",
   "metadata": {},
   "outputs": [
    {
     "data": {
      "text/plain": [
       "CITY1\n",
       "CHENNAI        45\n",
       "BANGALORE      23\n",
       "COIMBATORE     21\n",
       "MUMBAI         17\n",
       "HYDERABAD      15\n",
       "               ..\n",
       "KARAIKUDI       1\n",
       "KARAIKAL        1\n",
       "KANJAMPATTY     1\n",
       "KANGEYAM        1\n",
       "YETHAPUR        1\n",
       "Length: 364, dtype: int64"
      ]
     },
     "execution_count": 14,
     "metadata": {},
     "output_type": "execute_result"
    }
   ],
   "source": [
    "df.groupby(df.CITY1).size().sort_values(ascending=False)"
   ]
  },
  {
   "cell_type": "code",
   "execution_count": 15,
   "id": "5da8dde8",
   "metadata": {},
   "outputs": [
    {
     "name": "stdout",
     "output_type": "stream",
     "text": [
      "Collecting geopy\n",
      "  Downloading geopy-2.4.0-py3-none-any.whl (125 kB)\n",
      "\u001b[2K     \u001b[90m━━━━━━━━━━━━━━━━━━━━━━━━━━━━━━━━━━━━━━━\u001b[0m \u001b[32m125.4/125.4 kB\u001b[0m \u001b[31m1.4 MB/s\u001b[0m eta \u001b[36m0:00:00\u001b[0m00:01\u001b[0m00:01\u001b[0m\n",
      "\u001b[?25hCollecting geographiclib<3,>=1.52\n",
      "  Downloading geographiclib-2.0-py3-none-any.whl (40 kB)\n",
      "\u001b[2K     \u001b[90m━━━━━━━━━━━━━━━━━━━━━━━━━━━━━━━━━━━━━━━━\u001b[0m \u001b[32m40.3/40.3 kB\u001b[0m \u001b[31m1.9 MB/s\u001b[0m eta \u001b[36m0:00:00\u001b[0m\n",
      "\u001b[?25hInstalling collected packages: geographiclib, geopy\n",
      "Successfully installed geographiclib-2.0 geopy-2.4.0\n"
     ]
    }
   ],
   "source": [
    "!pip install geopy"
   ]
  },
  {
   "cell_type": "code",
   "execution_count": 21,
   "id": "d56901c7",
   "metadata": {},
   "outputs": [],
   "source": [
    "from geopy.geocoders import Nominatim\n",
    "\n",
    "city = 'Chennai'\n",
    "\n",
    "locator = Nominatim(user_agent=\"measurements\") \n"
   ]
  },
  {
   "cell_type": "code",
   "execution_count": 22,
   "id": "1f14519d",
   "metadata": {},
   "outputs": [],
   "source": [
    "location = locator.geocode('Delhi') "
   ]
  },
  {
   "cell_type": "code",
   "execution_count": 23,
   "id": "a9e8ea80",
   "metadata": {},
   "outputs": [
    {
     "name": "stdout",
     "output_type": "stream",
     "text": [
      "Latitude = 13.0836939, Longitude = 80.270186\n"
     ]
    }
   ],
   "source": [
    "location = locator.geocode(city) \n",
    "print(\"Latitude = {}, Longitude = {}\".format(location.latitude, location.longitude))\n"
   ]
  },
  {
   "cell_type": "code",
   "execution_count": 24,
   "id": "c415ceaa",
   "metadata": {},
   "outputs": [],
   "source": [
    "import requests\n",
    "\n",
    "from bs4 import BeautifulSoup\n",
    "\n",
    "from urllib.parse import urljoin\n",
    "\n",
    "import os\n",
    "\n",
    "\n",
    "\n",
    "url = 'https://www.premierleague.com/publications'\n",
    "\n",
    "folder_location = r'./PDF_data'\n",
    "\n",
    "if not os.path.exists(folder_location):\n",
    "\n",
    "    os.mkdir(folder_location)\n",
    "\n",
    "\n",
    "response = requests.get(url)\n",
    "\n",
    "soup = BeautifulSoup(response.text, \"html.parser\")     \n",
    "\n",
    " \n",
    "\n",
    "for link in soup.select(\"a[href$='.pdf']\"):\n",
    "\n",
    "    filename = os.path.join(folder_location, link['href'].split('/')[-1])\n",
    "\n",
    "    with open(filename, 'wb') as f:\n",
    "\n",
    "        f.write(requests.get(urljoin(url,link['href'])).content)\n"
   ]
  },
  {
   "cell_type": "code",
   "execution_count": 31,
   "id": "16cfe96c",
   "metadata": {},
   "outputs": [
    {
     "name": "stdout",
     "output_type": "stream",
     "text": [
      "      47\r\n"
     ]
    }
   ],
   "source": [
    "!ls ./PDF_data/ | wc -l \n"
   ]
  },
  {
   "cell_type": "code",
   "execution_count": 35,
   "id": "ee9bbda7",
   "metadata": {},
   "outputs": [],
   "source": [
    "import wikipedia as wk\n"
   ]
  },
  {
   "cell_type": "code",
   "execution_count": 36,
   "id": "d58b9f11",
   "metadata": {},
   "outputs": [
    {
     "data": {
      "text/plain": [
       "['Delhi',\n",
       " 'New Delhi',\n",
       " 'Delhi Gate, Delhi',\n",
       " 'Delhi Sultanate',\n",
       " 'Swaminarayan Akshardham (Delhi)',\n",
       " 'Delhi University',\n",
       " 'Delhi Crime',\n",
       " '2023 G20 New Delhi summit',\n",
       " 'New Parliament House, New Delhi',\n",
       " 'Delhi-6']"
      ]
     },
     "execution_count": 36,
     "metadata": {},
     "output_type": "execute_result"
    }
   ],
   "source": [
    "wk.search(\"Delhi\")"
   ]
  },
  {
   "cell_type": "code",
   "execution_count": 37,
   "id": "9f8a7522",
   "metadata": {},
   "outputs": [
    {
     "data": {
      "text/plain": [
       "['Delhi', 'New Delhi']"
      ]
     },
     "execution_count": 37,
     "metadata": {},
     "output_type": "execute_result"
    }
   ],
   "source": [
    "wk.search(\"Delhi\", results=2)"
   ]
  },
  {
   "cell_type": "code",
   "execution_count": 39,
   "id": "1c51efea",
   "metadata": {},
   "outputs": [
    {
     "data": {
      "text/plain": [
       "\"New Delhi ( , Hindi: [ˈnəiː ˈdɪlːiː], IAST: Naī Dillī) is the capital of India and a part of the National Capital Territory of Delhi (NCT). New Delhi is the seat of all three branches of the Government of India, hosting the Rashtrapati Bhavan, Sansad Bhavan, and the Supreme Court. New Delhi is a municipality within the NCT, administered by the NDMC, which covers mostly Lutyens' Delhi and a few adjacent areas. The municipal area is part of a larger administrative district, the New Delhi district.\\nAlthough colloquially Delhi and New Delhi are used interchangeably to refer to the National Capital Territory of Delhi, both are distinct entities, with both the municipality and the New Delhi district forming a relatively small part of the megacity of Delhi. The National Capital Region is a much larger entity comprising the entire NCT along with adjoining districts in neighbouring states, including Ghaziabad, Noida, Gurgaon and Faridabad.\\nThe foundation stone of New Delhi was laid by George V during the Delhi Durbar of 1911. It was designed by British architects Edwin Lutyens and Herbert Baker. The new capital was inaugurated on 13 February 1931, by Viceroy and Governor-General Irwin.\""
      ]
     },
     "execution_count": 39,
     "metadata": {},
     "output_type": "execute_result"
    }
   ],
   "source": [
    "wk.summary(\"New Delhi\")"
   ]
  },
  {
   "cell_type": "code",
   "execution_count": 53,
   "id": "3d2d9d3e",
   "metadata": {},
   "outputs": [],
   "source": [
    "temp_content = \"\"\"\n",
    "\n",
    "<!doctype html>\n",
    "\n",
    "<html class=\"no-js\" lang=\"\">\n",
    "\n",
    "    <head>\n",
    "\n",
    "        <title>An e-commerce website</title>\n",
    "\n",
    "    </head>\n",
    "\n",
    "    <body>\n",
    "\n",
    "        <h1 id='site_title'>Products</h1>\n",
    "\n",
    "        <hr></hr>\n",
    "\n",
    "        <div class=\"products\">\n",
    "\n",
    "            <h2><a href=\"product1.html\">Phone</a></h2>\n",
    "\n",
    "            <p>Technical Specifications of Phone</p>\n",
    "\n",
    "        </div>\n",
    "\n",
    "        <hr></hr>\n",
    "\n",
    "        <div class=\"products\">\n",
    "\n",
    "            <h2><a href=\"product2.html\">Camera</a></h2>\n",
    "\n",
    "            <p>Technical Specifications of Camera</p>\n",
    "\n",
    "        </div>\n",
    "\n",
    "        <hr></hr>\n",
    "\n",
    "        <div class='footer'>\n",
    "\n",
    "            <p>Information about the Organization</p>\n",
    "\n",
    "        </div>\n",
    "\n",
    "    </body>\n",
    "\n",
    "</html>\n",
    "\n",
    "\"\"\""
   ]
  },
  {
   "cell_type": "code",
   "execution_count": 54,
   "id": "ce173d2d",
   "metadata": {},
   "outputs": [],
   "source": [
    "from bs4 import BeautifulSoup as bs\n",
    "\n",
    "r = requests.get(\"https://www.espn.in/football/scoreboard\")\n",
    "\n",
    "soup = bs(temp_content)\n",
    "\n",
    "contents = soup.prettify()"
   ]
  },
  {
   "cell_type": "code",
   "execution_count": 59,
   "id": "2d15ed0f",
   "metadata": {},
   "outputs": [],
   "source": [
    "phone = soup.find(\"div\", class_=\"footer\")"
   ]
  },
  {
   "cell_type": "code",
   "execution_count": 60,
   "id": "e5ec1a0f",
   "metadata": {},
   "outputs": [
    {
     "data": {
      "text/plain": [
       "'Information about the Organization'"
      ]
     },
     "execution_count": 60,
     "metadata": {},
     "output_type": "execute_result"
    }
   ],
   "source": [
    "phone.p.text"
   ]
  },
  {
   "cell_type": "code",
   "execution_count": 66,
   "id": "4c3e288d",
   "metadata": {},
   "outputs": [],
   "source": [
    "place = 'Lincoln'\n",
    "url = \"https://locator-service.api.bbci.co.uk/locations?api_key=AGbFAKx58hyjQScCXIYrxuEwJh2W2cmv&stack=aws&locale=en&filter=international&place-types=settlement%2Cairport%2Cdistrict&order=importance&s={location}&a=true&format=json\".format(location=place)\n",
    "\n",
    "resp = requests.get(url).json()"
   ]
  },
  {
   "cell_type": "code",
   "execution_count": 68,
   "id": "93531558",
   "metadata": {},
   "outputs": [],
   "source": [
    "# resp"
   ]
  },
  {
   "cell_type": "code",
   "execution_count": 70,
   "id": "f8e812d0",
   "metadata": {},
   "outputs": [
    {
     "data": {
      "text/plain": [
       "10"
      ]
     },
     "execution_count": 70,
     "metadata": {},
     "output_type": "execute_result"
    }
   ],
   "source": [
    "search_query = 'Davie'\n",
    "\n",
    "len(wk.search(search_query))"
   ]
  },
  {
   "cell_type": "code",
   "execution_count": 72,
   "id": "0acb188e",
   "metadata": {},
   "outputs": [],
   "source": [
    "city = 'Santa Rosa'\n",
    "\n",
    "locator = Nominatim(user_agent=\"measurements\")"
   ]
  },
  {
   "cell_type": "code",
   "execution_count": 74,
   "id": "b9890a8a",
   "metadata": {},
   "outputs": [
    {
     "name": "stdout",
     "output_type": "stream",
     "text": [
      "38.4404925\n"
     ]
    }
   ],
   "source": [
    "city_data = locator.geocode(city)\n",
    "\n",
    "print(city_data.latitude)"
   ]
  },
  {
   "cell_type": "code",
   "execution_count": 75,
   "id": "e51d7412",
   "metadata": {},
   "outputs": [
    {
     "name": "stdout",
     "output_type": "stream",
     "text": [
      "-10.797788\n"
     ]
    }
   ],
   "source": [
    "city = \"Monrovia\"\n",
    "\n",
    "city_data = locator.geocode(city)\n",
    "\n",
    "print(city_data.longitude)"
   ]
  },
  {
   "cell_type": "code",
   "execution_count": null,
   "id": "8fd0d118",
   "metadata": {},
   "outputs": [],
   "source": []
  }
 ],
 "metadata": {
  "kernelspec": {
   "display_name": "Python 3 (ipykernel)",
   "language": "python",
   "name": "python3"
  },
  "language_info": {
   "codemirror_mode": {
    "name": "ipython",
    "version": 3
   },
   "file_extension": ".py",
   "mimetype": "text/x-python",
   "name": "python",
   "nbconvert_exporter": "python",
   "pygments_lexer": "ipython3",
   "version": "3.9.13"
  },
  "toc": {
   "base_numbering": 1,
   "nav_menu": {},
   "number_sections": true,
   "sideBar": true,
   "skip_h1_title": false,
   "title_cell": "Table of Contents",
   "title_sidebar": "Contents",
   "toc_cell": false,
   "toc_position": {},
   "toc_section_display": true,
   "toc_window_display": false
  }
 },
 "nbformat": 4,
 "nbformat_minor": 5
}
