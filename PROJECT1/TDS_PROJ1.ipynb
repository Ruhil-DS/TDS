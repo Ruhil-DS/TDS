{
 "cells": [
  {
   "cell_type": "markdown",
   "metadata": {
    "id": "5Fb0GZ1J15dF"
   },
   "source": [
    "# Tools in Data Science: Mini-Project 1\n",
    "\n",
    "Here, I'll be doing the mini-project 1 of the course **\"Tools in Data Science\"** in the <span style=\"color:hsl(0, 100, 30)\">BS in Data Science and Applications degree, IIT Madras.</span>\n",
    "\n",
    "\n",
    "## Submission Details\n",
    "\n",
    "Name: Pushpak Ruhil\n",
    "\n",
    "Roll no.: 21F2001180\n",
    "\n",
    "Submitted On:\n",
    "\n",
    "Submission Deadline: 17 November 2023\n",
    "\n",
    "Course: Tools in Data Science (Elective course, at 'Diploma in DS' level)\n",
    "\n",
    "## Data\n",
    "\n",
    "The data can be accessed from the [following link](https://www.senate.gov/legislative/LIS/roll_call_votes/vote1171/vote_117_1_00152.htm)\n",
    "\n",
    "Code: L3\n",
    "\n",
    "\n",
    "## What to expect from the project\n",
    "The project is as follows:\n",
    "- A source will be given to us, from where the data needs to be scrapped using any tools learnt during or outside the course.\n",
    "- The data will be in html/pdf format and we can choose to scrap data either from the PDF or the HTML page.\n",
    "- A set of questions will be given which needs to be answered based on further analysis from the scrapped data.\n",
    "- The submission needs to be in a csv format with utf-8 encoding.\n",
    "\n",
    "## Questions to Answer\n",
    "Q12: How many senators voted \"Nay\"? **N**\n",
    "\n",
    "Q4: How many states voted unanimously with \"Yea\"? **N**\n",
    "\n",
    "Q11: How many Democrats voted \"Yea\"? **N**\n",
    "\n",
    "Q14: How many senators did not vote? **N**\n",
    "\n",
    "Q3: What is the total number of \"Yea\" votes from senators whose names start with \"B\"? **N**\n",
    "\n",
    "Q5: How many states had at least one non-voting senator? **N**\n",
    "\n",
    "Q15: What is the ratio of the number of rows to the number of columns in your dataset? **N**\n",
    "\n",
    "Q13: How many states have both Democrat senators? **N**\n",
    "\n",
    "Q1: How many Democrats did not vote? **N**\n",
    "\n",
    "Q2: How many Republicans voted \"Yea\"? **N**\n",
    "\n"
   ]
  },
  {
   "cell_type": "code",
   "execution_count": 3,
   "metadata": {
    "id": "jNTDiBWi5giC"
   },
   "outputs": [],
   "source": [
    "# Importing necessary libraries\n",
    "import pandas as pd\n",
    "import numpy as np\n",
    "import requests\n",
    "import json\n",
    "from bs4 import BeautifulSoup # to parse the webpage"
   ]
  },
  {
   "cell_type": "code",
   "execution_count": 4,
   "metadata": {
    "id": "PmFmNTVO24WU"
   },
   "outputs": [],
   "source": [
    "url_data = r\"https://www.senate.gov/legislative/LIS/roll_call_votes/vote1171/vote_117_1_00152.htm\"\n",
    "\n",
    "resp = requests.get(url_data)"
   ]
  },
  {
   "cell_type": "code",
   "execution_count": 5,
   "metadata": {
    "colab": {
     "base_uri": "https://localhost:8080/"
    },
    "id": "9fsp_Aa07jP1",
    "outputId": "29bc3ad9-2a26-43c0-aa47-214ffbfcbdbb"
   },
   "outputs": [
    {
     "data": {
      "text/plain": [
       "b'<!DOCTYPE html PUBLIC \"-//W3C//DTD XHTML 1.0 Transitional//EN\" \"http://www.w3.org/TR/xhtml1/DTD/xhtml1-transitional.dtd\">\\n<!-- [if lt IE 7]> <html class=\"ie6 oldie\"> <![endif] --><!-- [if IE 7]>    <html class=\"ie7 oldie\"> <![endif] --><!-- [if IE 8]>    <html class=\"ie8 oldie\"> <![endif] --><!-- [if gt IE 8]> <! --><html class=\"\">\\n<!-- <![endif] -->\\n<head>\\n<META http-equiv=\"Content-Type\" content=\"text/html; charset=iso-8859-1\">\\n<meta charset=\"UTF-8\">\\n<meta name=\"viewport\" content=\"width=device-'"
      ]
     },
     "execution_count": 5,
     "metadata": {},
     "output_type": "execute_result"
    }
   ],
   "source": [
    "# Checking the output of the parsed content\n",
    "resp.content[:500]"
   ]
  },
  {
   "cell_type": "code",
   "execution_count": 6,
   "metadata": {
    "id": "PJJUmkai7UYT"
   },
   "outputs": [],
   "source": [
    "# Creating a Soup instance\n",
    "soup = BeautifulSoup(resp.content, \"html.parser\")"
   ]
  },
  {
   "cell_type": "code",
   "execution_count": 7,
   "metadata": {
    "id": "1EXwpK157sGB"
   },
   "outputs": [],
   "source": [
    "# Getting the data using the .find_all method\n",
    "data_list = soup.find_all(\"div\", attrs={\"class\":\"newspaperDisplay_3column\"})"
   ]
  },
  {
   "cell_type": "code",
   "execution_count": 8,
   "metadata": {
    "id": "QOMnENVi88dE"
   },
   "outputs": [],
   "source": [
    "# Focusing on Q1(or Q12, according to the sequence shared in the project)\n",
    "data_list = data_list[0]"
   ]
  },
  {
   "cell_type": "code",
   "execution_count": 9,
   "metadata": {
    "id": "zoDNEkRa9LXi"
   },
   "outputs": [],
   "source": [
    "# Splitting to get each element separately\n",
    "senator_data = data_list.text.strip().split(\"\\n\")"
   ]
  },
  {
   "cell_type": "code",
   "execution_count": 10,
   "metadata": {
    "id": "nG8U7leS9uRc"
   },
   "outputs": [],
   "source": [
    "# Creating a dictionary to convert to pandas DF\n",
    "df_dict = {\n",
    "    \"Name\": [],\n",
    "    \"Vote\": []\n",
    "}\n",
    "\n",
    "# Loop to process data\n",
    "for senator in senator_data:\n",
    "  name_vote = senator.split(\",\")\n",
    "  df_dict['Name'].append(name_vote[0])\n",
    "  df_dict['Vote'].append(name_vote[1])\n",
    "\n",
    "df = pd.DataFrame(df_dict)"
   ]
  },
  {
   "cell_type": "code",
   "execution_count": 11,
   "metadata": {
    "colab": {
     "base_uri": "https://localhost:8080/"
    },
    "id": "ng05_Hxw-gjK",
    "outputId": "7957d923-1ddc-42bc-91f8-b72c7848c4a5"
   },
   "outputs": [
    {
     "data": {
      "text/plain": [
       "(100, 2)"
      ]
     },
     "execution_count": 11,
     "metadata": {},
     "output_type": "execute_result"
    }
   ],
   "source": [
    "df.shape"
   ]
  },
  {
   "cell_type": "code",
   "execution_count": 12,
   "metadata": {
    "colab": {
     "base_uri": "https://localhost:8080/",
     "height": 175
    },
    "id": "xzYtV4boA98X",
    "outputId": "b5617536-b07f-4084-bbd8-591bee8ede57"
   },
   "outputs": [
    {
     "data": {
      "text/html": [
       "<div>\n",
       "<style scoped>\n",
       "    .dataframe tbody tr th:only-of-type {\n",
       "        vertical-align: middle;\n",
       "    }\n",
       "\n",
       "    .dataframe tbody tr th {\n",
       "        vertical-align: top;\n",
       "    }\n",
       "\n",
       "    .dataframe thead th {\n",
       "        text-align: right;\n",
       "    }\n",
       "</style>\n",
       "<table border=\"1\" class=\"dataframe\">\n",
       "  <thead>\n",
       "    <tr style=\"text-align: right;\">\n",
       "      <th></th>\n",
       "      <th>Name</th>\n",
       "      <th>Vote</th>\n",
       "    </tr>\n",
       "  </thead>\n",
       "  <tbody>\n",
       "    <tr>\n",
       "      <th>count</th>\n",
       "      <td>100</td>\n",
       "      <td>100</td>\n",
       "    </tr>\n",
       "    <tr>\n",
       "      <th>unique</th>\n",
       "      <td>100</td>\n",
       "      <td>3</td>\n",
       "    </tr>\n",
       "    <tr>\n",
       "      <th>top</th>\n",
       "      <td>Baldwin (D-WI)</td>\n",
       "      <td>Yea</td>\n",
       "    </tr>\n",
       "    <tr>\n",
       "      <th>freq</th>\n",
       "      <td>1</td>\n",
       "      <td>49</td>\n",
       "    </tr>\n",
       "  </tbody>\n",
       "</table>\n",
       "</div>"
      ],
      "text/plain": [
       "                  Name  Vote\n",
       "count              100   100\n",
       "unique             100     3\n",
       "top     Baldwin (D-WI)   Yea\n",
       "freq                 1    49"
      ]
     },
     "execution_count": 12,
     "metadata": {},
     "output_type": "execute_result"
    }
   ],
   "source": [
    "df.describe()"
   ]
  },
  {
   "cell_type": "code",
   "execution_count": 13,
   "metadata": {
    "colab": {
     "base_uri": "https://localhost:8080/",
     "height": 175
    },
    "id": "IiV7t17lBFUz",
    "outputId": "786da667-de97-4bf6-adaa-9b9f402895fc"
   },
   "outputs": [
    {
     "data": {
      "text/html": [
       "<div>\n",
       "<style scoped>\n",
       "    .dataframe tbody tr th:only-of-type {\n",
       "        vertical-align: middle;\n",
       "    }\n",
       "\n",
       "    .dataframe tbody tr th {\n",
       "        vertical-align: top;\n",
       "    }\n",
       "\n",
       "    .dataframe thead th {\n",
       "        text-align: right;\n",
       "    }\n",
       "</style>\n",
       "<table border=\"1\" class=\"dataframe\">\n",
       "  <thead>\n",
       "    <tr style=\"text-align: right;\">\n",
       "      <th></th>\n",
       "      <th>Name</th>\n",
       "    </tr>\n",
       "    <tr>\n",
       "      <th>Vote</th>\n",
       "      <th></th>\n",
       "    </tr>\n",
       "  </thead>\n",
       "  <tbody>\n",
       "    <tr>\n",
       "      <th>Nay</th>\n",
       "      <td>45</td>\n",
       "    </tr>\n",
       "    <tr>\n",
       "      <th>Not Voting</th>\n",
       "      <td>6</td>\n",
       "    </tr>\n",
       "    <tr>\n",
       "      <th>Yea</th>\n",
       "      <td>49</td>\n",
       "    </tr>\n",
       "  </tbody>\n",
       "</table>\n",
       "</div>"
      ],
      "text/plain": [
       "             Name\n",
       "Vote             \n",
       " Nay           45\n",
       " Not Voting     6\n",
       " Yea           49"
      ]
     },
     "execution_count": 13,
     "metadata": {},
     "output_type": "execute_result"
    }
   ],
   "source": [
    "# Grouping the data with the votes to get a count of each type of votes\n",
    "df.groupby(df['Vote']).count()"
   ]
  },
  {
   "cell_type": "code",
   "execution_count": 14,
   "metadata": {
    "id": "7EsCWW_GBH36"
   },
   "outputs": [],
   "source": [
    "# Dictionary to store all answers in sequential order\n",
    "answers = {}"
   ]
  },
  {
   "cell_type": "markdown",
   "metadata": {
    "id": "b-mXsQY4-iLp"
   },
   "source": [
    "# Q12: How many senators voted \"Nay\"? N"
   ]
  },
  {
   "cell_type": "code",
   "execution_count": 15,
   "metadata": {
    "id": "QmtUXA81COp2"
   },
   "outputs": [],
   "source": [
    "answers[\"Q12\"] = 45"
   ]
  },
  {
   "cell_type": "markdown",
   "metadata": {
    "id": "munmN2Wu-ZAS"
   },
   "source": [
    "# Q14: How many senators did not vote? N"
   ]
  },
  {
   "cell_type": "code",
   "execution_count": 16,
   "metadata": {
    "id": "Ac6eCISG-gJJ"
   },
   "outputs": [],
   "source": [
    "answers[\"Q14\"] = 6"
   ]
  },
  {
   "cell_type": "markdown",
   "metadata": {
    "id": "cWAJ3-nW_nA7"
   },
   "source": [
    "# Q3: What is the total number of \"Yea\" votes from senators whose names start with \"B\"? N"
   ]
  },
  {
   "cell_type": "code",
   "execution_count": 17,
   "metadata": {
    "colab": {
     "base_uri": "https://localhost:8080/",
     "height": 449
    },
    "id": "ZtX0TchU_rGn",
    "outputId": "bfc653bc-e5db-4d3e-9d38-6f62fffdc818"
   },
   "outputs": [
    {
     "name": "stderr",
     "output_type": "stream",
     "text": [
      "/var/folders/vm/pmp1rbyn7g72543clq9jjhnr0000gn/T/ipykernel_58546/680796629.py:1: UserWarning: This pattern is interpreted as a regular expression, and has match groups. To actually get the groups, use str.extract.\n",
      "  df[df['Name'].str.contains(\"(^B.*)\")]\n"
     ]
    },
    {
     "data": {
      "text/html": [
       "<div>\n",
       "<style scoped>\n",
       "    .dataframe tbody tr th:only-of-type {\n",
       "        vertical-align: middle;\n",
       "    }\n",
       "\n",
       "    .dataframe tbody tr th {\n",
       "        vertical-align: top;\n",
       "    }\n",
       "\n",
       "    .dataframe thead th {\n",
       "        text-align: right;\n",
       "    }\n",
       "</style>\n",
       "<table border=\"1\" class=\"dataframe\">\n",
       "  <thead>\n",
       "    <tr style=\"text-align: right;\">\n",
       "      <th></th>\n",
       "      <th>Name</th>\n",
       "      <th>Vote</th>\n",
       "    </tr>\n",
       "  </thead>\n",
       "  <tbody>\n",
       "    <tr>\n",
       "      <th>0</th>\n",
       "      <td>Baldwin (D-WI)</td>\n",
       "      <td>Yea</td>\n",
       "    </tr>\n",
       "    <tr>\n",
       "      <th>1</th>\n",
       "      <td>Barrasso (R-WY)</td>\n",
       "      <td>Nay</td>\n",
       "    </tr>\n",
       "    <tr>\n",
       "      <th>2</th>\n",
       "      <td>Bennet (D-CO)</td>\n",
       "      <td>Yea</td>\n",
       "    </tr>\n",
       "    <tr>\n",
       "      <th>3</th>\n",
       "      <td>Blackburn (R-TN)</td>\n",
       "      <td>Nay</td>\n",
       "    </tr>\n",
       "    <tr>\n",
       "      <th>4</th>\n",
       "      <td>Blumenthal (D-CT)</td>\n",
       "      <td>Yea</td>\n",
       "    </tr>\n",
       "    <tr>\n",
       "      <th>5</th>\n",
       "      <td>Blunt (R-MO)</td>\n",
       "      <td>Nay</td>\n",
       "    </tr>\n",
       "    <tr>\n",
       "      <th>6</th>\n",
       "      <td>Booker (D-NJ)</td>\n",
       "      <td>Yea</td>\n",
       "    </tr>\n",
       "    <tr>\n",
       "      <th>7</th>\n",
       "      <td>Boozman (R-AR)</td>\n",
       "      <td>Nay</td>\n",
       "    </tr>\n",
       "    <tr>\n",
       "      <th>8</th>\n",
       "      <td>Braun (R-IN)</td>\n",
       "      <td>Nay</td>\n",
       "    </tr>\n",
       "    <tr>\n",
       "      <th>9</th>\n",
       "      <td>Brown (D-OH)</td>\n",
       "      <td>Yea</td>\n",
       "    </tr>\n",
       "    <tr>\n",
       "      <th>10</th>\n",
       "      <td>Burr (R-NC)</td>\n",
       "      <td>Nay</td>\n",
       "    </tr>\n",
       "  </tbody>\n",
       "</table>\n",
       "</div>"
      ],
      "text/plain": [
       "                 Name  Vote\n",
       "0      Baldwin (D-WI)   Yea\n",
       "1     Barrasso (R-WY)   Nay\n",
       "2       Bennet (D-CO)   Yea\n",
       "3    Blackburn (R-TN)   Nay\n",
       "4   Blumenthal (D-CT)   Yea\n",
       "5        Blunt (R-MO)   Nay\n",
       "6       Booker (D-NJ)   Yea\n",
       "7      Boozman (R-AR)   Nay\n",
       "8        Braun (R-IN)   Nay\n",
       "9        Brown (D-OH)   Yea\n",
       "10        Burr (R-NC)   Nay"
      ]
     },
     "execution_count": 17,
     "metadata": {},
     "output_type": "execute_result"
    }
   ],
   "source": [
    "df[df['Name'].str.contains(\"(^B.*)\")]"
   ]
  },
  {
   "cell_type": "code",
   "execution_count": 18,
   "metadata": {
    "colab": {
     "base_uri": "https://localhost:8080/"
    },
    "id": "XoVBVhGXCNAz",
    "outputId": "e58d27f8-3547-45af-9d84-ce17ef7d59c6"
   },
   "outputs": [
    {
     "name": "stderr",
     "output_type": "stream",
     "text": [
      "/var/folders/vm/pmp1rbyn7g72543clq9jjhnr0000gn/T/ipykernel_58546/2557224278.py:1: UserWarning: This pattern is interpreted as a regular expression, and has match groups. To actually get the groups, use str.extract.\n",
      "  df_q3 = df[df['Name'].str.contains(\"(^B.*)\")].copy()\n"
     ]
    },
    {
     "data": {
      "text/plain": [
       "Name    11\n",
       "Vote    11\n",
       "dtype: int64"
      ]
     },
     "execution_count": 18,
     "metadata": {},
     "output_type": "execute_result"
    }
   ],
   "source": [
    "df_q3 = df[df['Name'].str.contains(\"(^B.*)\")].copy()\n",
    "\n",
    "df_q3.count()"
   ]
  },
  {
   "cell_type": "code",
   "execution_count": 19,
   "metadata": {
    "id": "O57IY0BqCf2u"
   },
   "outputs": [],
   "source": [
    "answers[\"Q3\"] = 11"
   ]
  },
  {
   "cell_type": "markdown",
   "metadata": {
    "id": "48nuhw_lDGVn"
   },
   "source": [
    "# Q11: How many Democrats voted \"Yea\"? N"
   ]
  },
  {
   "cell_type": "code",
   "execution_count": 20,
   "metadata": {
    "colab": {
     "base_uri": "https://localhost:8080/",
     "height": 0
    },
    "id": "ZGuzRTwZGDRR",
    "outputId": "72caec4c-4de1-4266-e8f1-a9cdd7138b1c"
   },
   "outputs": [
    {
     "data": {
      "text/html": [
       "<div>\n",
       "<style scoped>\n",
       "    .dataframe tbody tr th:only-of-type {\n",
       "        vertical-align: middle;\n",
       "    }\n",
       "\n",
       "    .dataframe tbody tr th {\n",
       "        vertical-align: top;\n",
       "    }\n",
       "\n",
       "    .dataframe thead th {\n",
       "        text-align: right;\n",
       "    }\n",
       "</style>\n",
       "<table border=\"1\" class=\"dataframe\">\n",
       "  <thead>\n",
       "    <tr style=\"text-align: right;\">\n",
       "      <th></th>\n",
       "      <th>Name</th>\n",
       "      <th>Vote</th>\n",
       "    </tr>\n",
       "  </thead>\n",
       "  <tbody>\n",
       "    <tr>\n",
       "      <th>0</th>\n",
       "      <td>Baldwin (D-WI)</td>\n",
       "      <td>Yea</td>\n",
       "    </tr>\n",
       "  </tbody>\n",
       "</table>\n",
       "</div>"
      ],
      "text/plain": [
       "             Name  Vote\n",
       "0  Baldwin (D-WI)   Yea"
      ]
     },
     "execution_count": 20,
     "metadata": {},
     "output_type": "execute_result"
    }
   ],
   "source": [
    "df.head(1)"
   ]
  },
  {
   "cell_type": "code",
   "execution_count": 21,
   "metadata": {
    "colab": {
     "base_uri": "https://localhost:8080/",
     "height": 0
    },
    "id": "of1wmi29-dvJ",
    "outputId": "416afed4-ebfa-4a0e-8017-6fdc788213a0"
   },
   "outputs": [
    {
     "name": "stderr",
     "output_type": "stream",
     "text": [
      "/var/folders/vm/pmp1rbyn7g72543clq9jjhnr0000gn/T/ipykernel_58546/3019567999.py:1: UserWarning: This pattern is interpreted as a regular expression, and has match groups. To actually get the groups, use str.extract.\n",
      "  df[df['Name'].str.contains(r\"(\\s\\(D.*)\")]\n"
     ]
    },
    {
     "data": {
      "text/html": [
       "<div>\n",
       "<style scoped>\n",
       "    .dataframe tbody tr th:only-of-type {\n",
       "        vertical-align: middle;\n",
       "    }\n",
       "\n",
       "    .dataframe tbody tr th {\n",
       "        vertical-align: top;\n",
       "    }\n",
       "\n",
       "    .dataframe thead th {\n",
       "        text-align: right;\n",
       "    }\n",
       "</style>\n",
       "<table border=\"1\" class=\"dataframe\">\n",
       "  <thead>\n",
       "    <tr style=\"text-align: right;\">\n",
       "      <th></th>\n",
       "      <th>Name</th>\n",
       "      <th>Vote</th>\n",
       "    </tr>\n",
       "  </thead>\n",
       "  <tbody>\n",
       "    <tr>\n",
       "      <th>0</th>\n",
       "      <td>Baldwin (D-WI)</td>\n",
       "      <td>Yea</td>\n",
       "    </tr>\n",
       "    <tr>\n",
       "      <th>2</th>\n",
       "      <td>Bennet (D-CO)</td>\n",
       "      <td>Yea</td>\n",
       "    </tr>\n",
       "    <tr>\n",
       "      <th>4</th>\n",
       "      <td>Blumenthal (D-CT)</td>\n",
       "      <td>Yea</td>\n",
       "    </tr>\n",
       "    <tr>\n",
       "      <th>6</th>\n",
       "      <td>Booker (D-NJ)</td>\n",
       "      <td>Yea</td>\n",
       "    </tr>\n",
       "    <tr>\n",
       "      <th>9</th>\n",
       "      <td>Brown (D-OH)</td>\n",
       "      <td>Yea</td>\n",
       "    </tr>\n",
       "    <tr>\n",
       "      <th>11</th>\n",
       "      <td>Cantwell (D-WA)</td>\n",
       "      <td>Yea</td>\n",
       "    </tr>\n",
       "    <tr>\n",
       "      <th>13</th>\n",
       "      <td>Cardin (D-MD)</td>\n",
       "      <td>Yea</td>\n",
       "    </tr>\n",
       "    <tr>\n",
       "      <th>14</th>\n",
       "      <td>Carper (D-DE)</td>\n",
       "      <td>Yea</td>\n",
       "    </tr>\n",
       "    <tr>\n",
       "      <th>15</th>\n",
       "      <td>Casey (D-PA)</td>\n",
       "      <td>Yea</td>\n",
       "    </tr>\n",
       "    <tr>\n",
       "      <th>18</th>\n",
       "      <td>Coons (D-DE)</td>\n",
       "      <td>Yea</td>\n",
       "    </tr>\n",
       "    <tr>\n",
       "      <th>20</th>\n",
       "      <td>Cortez Masto (D-NV)</td>\n",
       "      <td>Yea</td>\n",
       "    </tr>\n",
       "    <tr>\n",
       "      <th>26</th>\n",
       "      <td>Duckworth (D-IL)</td>\n",
       "      <td>Yea</td>\n",
       "    </tr>\n",
       "    <tr>\n",
       "      <th>27</th>\n",
       "      <td>Durbin (D-IL)</td>\n",
       "      <td>Yea</td>\n",
       "    </tr>\n",
       "    <tr>\n",
       "      <th>29</th>\n",
       "      <td>Feinstein (D-CA)</td>\n",
       "      <td>Yea</td>\n",
       "    </tr>\n",
       "    <tr>\n",
       "      <th>31</th>\n",
       "      <td>Gillibrand (D-NY)</td>\n",
       "      <td>Yea</td>\n",
       "    </tr>\n",
       "    <tr>\n",
       "      <th>35</th>\n",
       "      <td>Hassan (D-NH)</td>\n",
       "      <td>Yea</td>\n",
       "    </tr>\n",
       "    <tr>\n",
       "      <th>37</th>\n",
       "      <td>Heinrich (D-NM)</td>\n",
       "      <td>Yea</td>\n",
       "    </tr>\n",
       "    <tr>\n",
       "      <th>38</th>\n",
       "      <td>Hickenlooper (D-CO)</td>\n",
       "      <td>Yea</td>\n",
       "    </tr>\n",
       "    <tr>\n",
       "      <th>39</th>\n",
       "      <td>Hirono (D-HI)</td>\n",
       "      <td>Yea</td>\n",
       "    </tr>\n",
       "    <tr>\n",
       "      <th>44</th>\n",
       "      <td>Kaine (D-VA)</td>\n",
       "      <td>Yea</td>\n",
       "    </tr>\n",
       "    <tr>\n",
       "      <th>45</th>\n",
       "      <td>Kelly (D-AZ)</td>\n",
       "      <td>Yea</td>\n",
       "    </tr>\n",
       "    <tr>\n",
       "      <th>48</th>\n",
       "      <td>Klobuchar (D-MN)</td>\n",
       "      <td>Yea</td>\n",
       "    </tr>\n",
       "    <tr>\n",
       "      <th>50</th>\n",
       "      <td>Leahy (D-VT)</td>\n",
       "      <td>Yea</td>\n",
       "    </tr>\n",
       "    <tr>\n",
       "      <th>52</th>\n",
       "      <td>Lujan (D-NM)</td>\n",
       "      <td>Yea</td>\n",
       "    </tr>\n",
       "    <tr>\n",
       "      <th>54</th>\n",
       "      <td>Manchin (D-WV)</td>\n",
       "      <td>Yea</td>\n",
       "    </tr>\n",
       "    <tr>\n",
       "      <th>55</th>\n",
       "      <td>Markey (D-MA)</td>\n",
       "      <td>Yea</td>\n",
       "    </tr>\n",
       "    <tr>\n",
       "      <th>58</th>\n",
       "      <td>Menendez (D-NJ)</td>\n",
       "      <td>Yea</td>\n",
       "    </tr>\n",
       "    <tr>\n",
       "      <th>59</th>\n",
       "      <td>Merkley (D-OR)</td>\n",
       "      <td>Yea</td>\n",
       "    </tr>\n",
       "    <tr>\n",
       "      <th>62</th>\n",
       "      <td>Murphy (D-CT)</td>\n",
       "      <td>Yea</td>\n",
       "    </tr>\n",
       "    <tr>\n",
       "      <th>63</th>\n",
       "      <td>Murray (D-WA)</td>\n",
       "      <td>Yea</td>\n",
       "    </tr>\n",
       "    <tr>\n",
       "      <th>64</th>\n",
       "      <td>Ossoff (D-GA)</td>\n",
       "      <td>Yea</td>\n",
       "    </tr>\n",
       "    <tr>\n",
       "      <th>65</th>\n",
       "      <td>Padilla (D-CA)</td>\n",
       "      <td>Yea</td>\n",
       "    </tr>\n",
       "    <tr>\n",
       "      <th>67</th>\n",
       "      <td>Peters (D-MI)</td>\n",
       "      <td>Yea</td>\n",
       "    </tr>\n",
       "    <tr>\n",
       "      <th>69</th>\n",
       "      <td>Reed (D-RI)</td>\n",
       "      <td>Yea</td>\n",
       "    </tr>\n",
       "    <tr>\n",
       "      <th>72</th>\n",
       "      <td>Rosen (D-NV)</td>\n",
       "      <td>Yea</td>\n",
       "    </tr>\n",
       "    <tr>\n",
       "      <th>77</th>\n",
       "      <td>Schatz (D-HI)</td>\n",
       "      <td>Yea</td>\n",
       "    </tr>\n",
       "    <tr>\n",
       "      <th>78</th>\n",
       "      <td>Schumer (D-NY)</td>\n",
       "      <td>Yea</td>\n",
       "    </tr>\n",
       "    <tr>\n",
       "      <th>81</th>\n",
       "      <td>Shaheen (D-NH)</td>\n",
       "      <td>Yea</td>\n",
       "    </tr>\n",
       "    <tr>\n",
       "      <th>83</th>\n",
       "      <td>Sinema (D-AZ)</td>\n",
       "      <td>Yea</td>\n",
       "    </tr>\n",
       "    <tr>\n",
       "      <th>84</th>\n",
       "      <td>Smith (D-MN)</td>\n",
       "      <td>Yea</td>\n",
       "    </tr>\n",
       "    <tr>\n",
       "      <th>85</th>\n",
       "      <td>Stabenow (D-MI)</td>\n",
       "      <td>Yea</td>\n",
       "    </tr>\n",
       "    <tr>\n",
       "      <th>87</th>\n",
       "      <td>Tester (D-MT)</td>\n",
       "      <td>Yea</td>\n",
       "    </tr>\n",
       "    <tr>\n",
       "      <th>92</th>\n",
       "      <td>Van Hollen (D-MD)</td>\n",
       "      <td>Yea</td>\n",
       "    </tr>\n",
       "    <tr>\n",
       "      <th>93</th>\n",
       "      <td>Warner (D-VA)</td>\n",
       "      <td>Yea</td>\n",
       "    </tr>\n",
       "    <tr>\n",
       "      <th>94</th>\n",
       "      <td>Warnock (D-GA)</td>\n",
       "      <td>Yea</td>\n",
       "    </tr>\n",
       "    <tr>\n",
       "      <th>95</th>\n",
       "      <td>Warren (D-MA)</td>\n",
       "      <td>Yea</td>\n",
       "    </tr>\n",
       "    <tr>\n",
       "      <th>96</th>\n",
       "      <td>Whitehouse (D-RI)</td>\n",
       "      <td>Yea</td>\n",
       "    </tr>\n",
       "    <tr>\n",
       "      <th>98</th>\n",
       "      <td>Wyden (D-OR)</td>\n",
       "      <td>Yea</td>\n",
       "    </tr>\n",
       "  </tbody>\n",
       "</table>\n",
       "</div>"
      ],
      "text/plain": [
       "                   Name  Vote\n",
       "0        Baldwin (D-WI)   Yea\n",
       "2         Bennet (D-CO)   Yea\n",
       "4     Blumenthal (D-CT)   Yea\n",
       "6         Booker (D-NJ)   Yea\n",
       "9          Brown (D-OH)   Yea\n",
       "11      Cantwell (D-WA)   Yea\n",
       "13        Cardin (D-MD)   Yea\n",
       "14        Carper (D-DE)   Yea\n",
       "15         Casey (D-PA)   Yea\n",
       "18         Coons (D-DE)   Yea\n",
       "20  Cortez Masto (D-NV)   Yea\n",
       "26     Duckworth (D-IL)   Yea\n",
       "27        Durbin (D-IL)   Yea\n",
       "29     Feinstein (D-CA)   Yea\n",
       "31    Gillibrand (D-NY)   Yea\n",
       "35        Hassan (D-NH)   Yea\n",
       "37      Heinrich (D-NM)   Yea\n",
       "38  Hickenlooper (D-CO)   Yea\n",
       "39        Hirono (D-HI)   Yea\n",
       "44         Kaine (D-VA)   Yea\n",
       "45         Kelly (D-AZ)   Yea\n",
       "48     Klobuchar (D-MN)   Yea\n",
       "50         Leahy (D-VT)   Yea\n",
       "52         Lujan (D-NM)   Yea\n",
       "54       Manchin (D-WV)   Yea\n",
       "55        Markey (D-MA)   Yea\n",
       "58      Menendez (D-NJ)   Yea\n",
       "59       Merkley (D-OR)   Yea\n",
       "62        Murphy (D-CT)   Yea\n",
       "63        Murray (D-WA)   Yea\n",
       "64        Ossoff (D-GA)   Yea\n",
       "65       Padilla (D-CA)   Yea\n",
       "67        Peters (D-MI)   Yea\n",
       "69          Reed (D-RI)   Yea\n",
       "72         Rosen (D-NV)   Yea\n",
       "77        Schatz (D-HI)   Yea\n",
       "78       Schumer (D-NY)   Yea\n",
       "81       Shaheen (D-NH)   Yea\n",
       "83        Sinema (D-AZ)   Yea\n",
       "84         Smith (D-MN)   Yea\n",
       "85      Stabenow (D-MI)   Yea\n",
       "87        Tester (D-MT)   Yea\n",
       "92    Van Hollen (D-MD)   Yea\n",
       "93        Warner (D-VA)   Yea\n",
       "94       Warnock (D-GA)   Yea\n",
       "95        Warren (D-MA)   Yea\n",
       "96    Whitehouse (D-RI)   Yea\n",
       "98         Wyden (D-OR)   Yea"
      ]
     },
     "execution_count": 21,
     "metadata": {},
     "output_type": "execute_result"
    }
   ],
   "source": [
    "df[df['Name'].str.contains(r\"(\\s\\(D.*)\")]"
   ]
  },
  {
   "cell_type": "code",
   "execution_count": 22,
   "metadata": {
    "colab": {
     "base_uri": "https://localhost:8080/",
     "height": 0
    },
    "id": "Cu-1H6UqEM3u",
    "outputId": "8ea7afd0-c18a-4fa4-8476-a276da2581ee"
   },
   "outputs": [
    {
     "name": "stderr",
     "output_type": "stream",
     "text": [
      "/var/folders/vm/pmp1rbyn7g72543clq9jjhnr0000gn/T/ipykernel_58546/3081225114.py:1: UserWarning: This pattern is interpreted as a regular expression, and has match groups. To actually get the groups, use str.extract.\n",
      "  df[df['Name'].str.contains(r\"(\\s\\(D.*)\")].groupby(\"Vote\").count()\n"
     ]
    },
    {
     "data": {
      "text/html": [
       "<div>\n",
       "<style scoped>\n",
       "    .dataframe tbody tr th:only-of-type {\n",
       "        vertical-align: middle;\n",
       "    }\n",
       "\n",
       "    .dataframe tbody tr th {\n",
       "        vertical-align: top;\n",
       "    }\n",
       "\n",
       "    .dataframe thead th {\n",
       "        text-align: right;\n",
       "    }\n",
       "</style>\n",
       "<table border=\"1\" class=\"dataframe\">\n",
       "  <thead>\n",
       "    <tr style=\"text-align: right;\">\n",
       "      <th></th>\n",
       "      <th>Name</th>\n",
       "    </tr>\n",
       "    <tr>\n",
       "      <th>Vote</th>\n",
       "      <th></th>\n",
       "    </tr>\n",
       "  </thead>\n",
       "  <tbody>\n",
       "    <tr>\n",
       "      <th>Yea</th>\n",
       "      <td>48</td>\n",
       "    </tr>\n",
       "  </tbody>\n",
       "</table>\n",
       "</div>"
      ],
      "text/plain": [
       "      Name\n",
       "Vote      \n",
       " Yea    48"
      ]
     },
     "execution_count": 22,
     "metadata": {},
     "output_type": "execute_result"
    }
   ],
   "source": [
    "df[df['Name'].str.contains(r\"(\\s\\(D.*)\")].groupby(\"Vote\").count()"
   ]
  },
  {
   "cell_type": "code",
   "execution_count": 23,
   "metadata": {
    "id": "nForW6ePGpuZ"
   },
   "outputs": [],
   "source": [
    "answers[\"Q11\"] = 48"
   ]
  },
  {
   "cell_type": "markdown",
   "metadata": {
    "id": "QI83vvl_HeOs"
   },
   "source": [
    "# Q1: How many Democrats did not vote? N\n"
   ]
  },
  {
   "cell_type": "code",
   "execution_count": 24,
   "metadata": {
    "id": "VM26CbzfIGhS"
   },
   "outputs": [],
   "source": [
    "answers['Q1'] = 0"
   ]
  },
  {
   "cell_type": "markdown",
   "metadata": {
    "id": "tl8NeTOsIIbh"
   },
   "source": [
    "# Q2: How many Republicans voted \"Yea\"? N"
   ]
  },
  {
   "cell_type": "code",
   "execution_count": 25,
   "metadata": {
    "id": "d6plKQsuLZHY"
   },
   "outputs": [],
   "source": [
    "answers['Q2'] = 0"
   ]
  },
  {
   "cell_type": "markdown",
   "metadata": {
    "id": "3nipsmCILa0A"
   },
   "source": [
    "# Q15: What is the ratio of the number of rows to the number of columns in your dataset? N"
   ]
  },
  {
   "cell_type": "code",
   "execution_count": 26,
   "metadata": {
    "colab": {
     "base_uri": "https://localhost:8080/"
    },
    "id": "uTgsa2bGMCmW",
    "outputId": "19e0a6ab-202c-4835-9b59-89fafeebdd53"
   },
   "outputs": [
    {
     "data": {
      "text/plain": [
       "(100, 2)"
      ]
     },
     "execution_count": 26,
     "metadata": {},
     "output_type": "execute_result"
    }
   ],
   "source": [
    "df.shape"
   ]
  },
  {
   "cell_type": "code",
   "execution_count": 27,
   "metadata": {
    "id": "md5D-clpL_iZ"
   },
   "outputs": [],
   "source": [
    "# Columns in most atomic form: state, voter_1, d_or_r_1, vote_1, voter_2, d_or_r_2, vote_2\n",
    "answers[\"Q15\"] = 100/7"
   ]
  },
  {
   "cell_type": "code",
   "execution_count": 28,
   "metadata": {},
   "outputs": [
    {
     "data": {
      "text/plain": [
       "{'Q12': 45,\n",
       " 'Q14': 6,\n",
       " 'Q3': 11,\n",
       " 'Q11': 48,\n",
       " 'Q1': 0,\n",
       " 'Q2': 0,\n",
       " 'Q15': 14.285714285714286}"
      ]
     },
     "execution_count": 28,
     "metadata": {},
     "output_type": "execute_result"
    }
   ],
   "source": [
    "answers"
   ]
  },
  {
   "cell_type": "code",
   "execution_count": 29,
   "metadata": {},
   "outputs": [
    {
     "data": {
      "text/plain": [
       "25.0"
      ]
     },
     "execution_count": 29,
     "metadata": {},
     "output_type": "execute_result"
    }
   ],
   "source": [
    "100/4"
   ]
  },
  {
   "cell_type": "markdown",
   "metadata": {
    "id": "H1XE8uiQ1XDj"
   },
   "source": [
    "# Q4: How many states voted unanimously with \"Yea\"? N"
   ]
  },
  {
   "cell_type": "code",
   "execution_count": 30,
   "metadata": {
    "id": "7zdFvA6KMEjr"
   },
   "outputs": [],
   "source": [
    "state_wise = soup.find_all(\"div\", attrs={\"class\":\"contenttext\", \"width\":\"100%\"})"
   ]
  },
  {
   "cell_type": "code",
   "execution_count": 31,
   "metadata": {
    "id": "qc5g_5t8yO6A"
   },
   "outputs": [],
   "source": [
    "# Filtering only the required data\n",
    "state_wise = state_wise[-2]"
   ]
  },
  {
   "cell_type": "code",
   "execution_count": 32,
   "metadata": {
    "id": "Mkqqd-IL1J2S"
   },
   "outputs": [],
   "source": [
    "# Storing the state-wise data in a list\n",
    "state_data = (state_wise.text).strip().split(\"\\n\\n\\n\\n\")"
   ]
  },
  {
   "cell_type": "code",
   "execution_count": 33,
   "metadata": {
    "colab": {
     "base_uri": "https://localhost:8080/",
     "height": 35
    },
    "id": "c3Fm1w9f2KCG",
    "outputId": "e2d941d3-63e6-404f-ffac-1abcf011fd72"
   },
   "outputs": [
    {
     "data": {
      "text/plain": [
       "'Alabama:\\n\\n\\nShelby (R-AL), Nay\\n\\nTuberville (R-AL), Nay'"
      ]
     },
     "execution_count": 33,
     "metadata": {},
     "output_type": "execute_result"
    }
   ],
   "source": [
    "state_data[0]"
   ]
  },
  {
   "cell_type": "code",
   "execution_count": 34,
   "metadata": {
    "id": "lc5eNCOp3n_e"
   },
   "outputs": [],
   "source": [
    "# Let's start splitting, now\n",
    "dict_data = {}\n",
    "temp = state_data[0].split(\":\")\n",
    "cities = [temp[0]]\n",
    "votes = [i.split(\",\") for i in (x.strip() for x in temp[1].strip().split(\"\\n\\n\"))]\n"
   ]
  },
  {
   "cell_type": "code",
   "execution_count": 35,
   "metadata": {
    "id": "SZt_GgkY4Hdt"
   },
   "outputs": [],
   "source": [
    "dict_data = {}\n",
    "cities = []\n",
    "votes = []\n",
    "for i in range(len(state_data)):\n",
    "  temp = state_data[i].split(\":\")\n",
    "  cities.append(temp[0])\n",
    "  votes.append([i.split(\",\") for i in (x.strip() for x in temp[1].strip().split(\"\\n\\n\"))])\n"
   ]
  },
  {
   "cell_type": "code",
   "execution_count": 36,
   "metadata": {
    "colab": {
     "base_uri": "https://localhost:8080/",
     "height": 35
    },
    "id": "ReQTqK-q7410",
    "outputId": "bcb3c189-7066-4596-92e4-a3b55e00e47c"
   },
   "outputs": [
    {
     "data": {
      "text/plain": [
       "'Shelby (R-AL)'"
      ]
     },
     "execution_count": 36,
     "metadata": {},
     "output_type": "execute_result"
    }
   ],
   "source": [
    "votes[0][0][0]"
   ]
  },
  {
   "cell_type": "code",
   "execution_count": 37,
   "metadata": {
    "id": "ta5NJOrj7CUY"
   },
   "outputs": [],
   "source": [
    "data = {\n",
    "    \"city\": [],\n",
    "    \"voter_1\": [],\n",
    "    \"vote_1\": [],\n",
    "    \"voter_2\": [],\n",
    "    \"vote_2\": []\n",
    "}\n",
    "for city, voters in zip(cities, votes):\n",
    "  data[\"city\"].append(city)\n",
    "  data[\"voter_1\"].append(voters[0][0])\n",
    "  data[\"vote_1\"].append(voters[0][1])\n",
    "  data[\"voter_2\"].append(voters[1][0])\n",
    "  data[\"vote_2\"].append(voters[1][1])"
   ]
  },
  {
   "cell_type": "code",
   "execution_count": 38,
   "metadata": {
    "id": "4wwMMxe27Lho"
   },
   "outputs": [],
   "source": [
    "state_wise_df = pd.DataFrame(data)"
   ]
  },
  {
   "cell_type": "code",
   "execution_count": 39,
   "metadata": {
    "colab": {
     "base_uri": "https://localhost:8080/"
    },
    "id": "dcgyUBJ8-nGx",
    "outputId": "decab2d8-63bb-44f3-a14d-8e1782418d0c"
   },
   "outputs": [
    {
     "data": {
      "text/plain": [
       "(50, 5)"
      ]
     },
     "execution_count": 39,
     "metadata": {},
     "output_type": "execute_result"
    }
   ],
   "source": [
    "state_wise_df.shape"
   ]
  },
  {
   "cell_type": "code",
   "execution_count": 40,
   "metadata": {
    "colab": {
     "base_uri": "https://localhost:8080/",
     "height": 112
    },
    "id": "dAj1SGoH-8JK",
    "outputId": "d222b71e-90db-4b5e-c368-30a11775abba"
   },
   "outputs": [
    {
     "data": {
      "text/html": [
       "<div>\n",
       "<style scoped>\n",
       "    .dataframe tbody tr th:only-of-type {\n",
       "        vertical-align: middle;\n",
       "    }\n",
       "\n",
       "    .dataframe tbody tr th {\n",
       "        vertical-align: top;\n",
       "    }\n",
       "\n",
       "    .dataframe thead th {\n",
       "        text-align: right;\n",
       "    }\n",
       "</style>\n",
       "<table border=\"1\" class=\"dataframe\">\n",
       "  <thead>\n",
       "    <tr style=\"text-align: right;\">\n",
       "      <th></th>\n",
       "      <th>city</th>\n",
       "      <th>voter_1</th>\n",
       "      <th>vote_1</th>\n",
       "      <th>voter_2</th>\n",
       "      <th>vote_2</th>\n",
       "    </tr>\n",
       "  </thead>\n",
       "  <tbody>\n",
       "    <tr>\n",
       "      <th>0</th>\n",
       "      <td>Alabama</td>\n",
       "      <td>Shelby (R-AL)</td>\n",
       "      <td>Nay</td>\n",
       "      <td>Tuberville (R-AL)</td>\n",
       "      <td>Nay</td>\n",
       "    </tr>\n",
       "    <tr>\n",
       "      <th>1</th>\n",
       "      <td>Alaska</td>\n",
       "      <td>Murkowski (R-AK)</td>\n",
       "      <td>Nay</td>\n",
       "      <td>Sullivan (R-AK)</td>\n",
       "      <td>Nay</td>\n",
       "    </tr>\n",
       "  </tbody>\n",
       "</table>\n",
       "</div>"
      ],
      "text/plain": [
       "      city           voter_1 vote_1            voter_2 vote_2\n",
       "0  Alabama     Shelby (R-AL)    Nay  Tuberville (R-AL)    Nay\n",
       "1   Alaska  Murkowski (R-AK)    Nay    Sullivan (R-AK)    Nay"
      ]
     },
     "execution_count": 40,
     "metadata": {},
     "output_type": "execute_result"
    }
   ],
   "source": [
    "state_wise_df.head(2)"
   ]
  },
  {
   "cell_type": "code",
   "execution_count": 41,
   "metadata": {
    "id": "8Pb8MNH3CpEm"
   },
   "outputs": [],
   "source": [
    "state_wise_df['vote_1'] = state_wise_df['vote_1'].str.strip()\n",
    "state_wise_df['vote_2'] = state_wise_df['vote_2'].str.strip()"
   ]
  },
  {
   "cell_type": "code",
   "execution_count": 42,
   "metadata": {
    "id": "l7_7xC9GC_-U"
   },
   "outputs": [],
   "source": [
    "ans_4 = state_wise_df[(state_wise_df['vote_1']=='Yea') & (state_wise_df['vote_2'] == 'Yea')]"
   ]
  },
  {
   "cell_type": "code",
   "execution_count": 43,
   "metadata": {
    "colab": {
     "base_uri": "https://localhost:8080/"
    },
    "id": "jpDOjGVwD5DO",
    "outputId": "9d97a96e-6351-43cf-9084-8b8b85552a6e"
   },
   "outputs": [
    {
     "data": {
      "text/plain": [
       "(21, 5)"
      ]
     },
     "execution_count": 43,
     "metadata": {},
     "output_type": "execute_result"
    }
   ],
   "source": [
    "ans_4.shape"
   ]
  },
  {
   "cell_type": "code",
   "execution_count": 44,
   "metadata": {
    "id": "5CI7soIlE7jh"
   },
   "outputs": [],
   "source": [
    "answers[\"Q4\"] = 21"
   ]
  },
  {
   "cell_type": "markdown",
   "metadata": {
    "id": "eWdModseE9SD"
   },
   "source": [
    "# Q5: How many states had at least one non-voting senator? N"
   ]
  },
  {
   "cell_type": "code",
   "execution_count": 45,
   "metadata": {
    "colab": {
     "base_uri": "https://localhost:8080/"
    },
    "id": "dCBT6hhgFViY",
    "outputId": "e1096fca-3a91-46ac-c3d4-3a07c1e1d5b8"
   },
   "outputs": [
    {
     "data": {
      "text/plain": [
       "array(['Nay', 'Yea', 'Not Voting'], dtype=object)"
      ]
     },
     "execution_count": 45,
     "metadata": {},
     "output_type": "execute_result"
    }
   ],
   "source": [
    "state_wise_df[\"vote_1\"].unique()"
   ]
  },
  {
   "cell_type": "code",
   "execution_count": 46,
   "metadata": {
    "id": "2pfV-1ZzE_Dv"
   },
   "outputs": [],
   "source": [
    "ans_5 = state_wise_df[(state_wise_df['vote_1']=='Not Voting') | (state_wise_df['vote_2'] == 'Not Voting')]"
   ]
  },
  {
   "cell_type": "code",
   "execution_count": 47,
   "metadata": {
    "colab": {
     "base_uri": "https://localhost:8080/"
    },
    "id": "pRgRIZ8KFBAp",
    "outputId": "b50c9f3e-e47f-4ebc-ac93-1ed31c04d1da"
   },
   "outputs": [
    {
     "data": {
      "text/plain": [
       "(5, 5)"
      ]
     },
     "execution_count": 47,
     "metadata": {},
     "output_type": "execute_result"
    }
   ],
   "source": [
    "ans_5.shape"
   ]
  },
  {
   "cell_type": "code",
   "execution_count": 48,
   "metadata": {
    "id": "OBa1U4XWF22T"
   },
   "outputs": [],
   "source": [
    "answers[\"Q5\"] = 5"
   ]
  },
  {
   "cell_type": "code",
   "execution_count": 49,
   "metadata": {
    "colab": {
     "base_uri": "https://localhost:8080/"
    },
    "id": "OdOWS3kRF4u4",
    "outputId": "12d85d3f-584f-4405-f622-e3a906eb8605"
   },
   "outputs": [
    {
     "data": {
      "text/plain": [
       "{'Q12': 45,\n",
       " 'Q14': 6,\n",
       " 'Q3': 11,\n",
       " 'Q11': 48,\n",
       " 'Q1': 0,\n",
       " 'Q2': 0,\n",
       " 'Q15': 14.285714285714286,\n",
       " 'Q4': 21,\n",
       " 'Q5': 5}"
      ]
     },
     "execution_count": 49,
     "metadata": {},
     "output_type": "execute_result"
    }
   ],
   "source": [
    "answers"
   ]
  },
  {
   "cell_type": "markdown",
   "metadata": {
    "id": "qjDo2WHPGM54"
   },
   "source": [
    "# Q13: How many states have both Democrat senators? N"
   ]
  },
  {
   "cell_type": "code",
   "execution_count": 50,
   "metadata": {
    "colab": {
     "base_uri": "https://localhost:8080/",
     "height": 112
    },
    "id": "lDz4WqHjGYDd",
    "outputId": "cc2cacff-6dc7-4261-afdb-b629060b4ce0"
   },
   "outputs": [
    {
     "data": {
      "text/html": [
       "<div>\n",
       "<style scoped>\n",
       "    .dataframe tbody tr th:only-of-type {\n",
       "        vertical-align: middle;\n",
       "    }\n",
       "\n",
       "    .dataframe tbody tr th {\n",
       "        vertical-align: top;\n",
       "    }\n",
       "\n",
       "    .dataframe thead th {\n",
       "        text-align: right;\n",
       "    }\n",
       "</style>\n",
       "<table border=\"1\" class=\"dataframe\">\n",
       "  <thead>\n",
       "    <tr style=\"text-align: right;\">\n",
       "      <th></th>\n",
       "      <th>city</th>\n",
       "      <th>voter_1</th>\n",
       "      <th>vote_1</th>\n",
       "      <th>voter_2</th>\n",
       "      <th>vote_2</th>\n",
       "    </tr>\n",
       "  </thead>\n",
       "  <tbody>\n",
       "    <tr>\n",
       "      <th>0</th>\n",
       "      <td>Alabama</td>\n",
       "      <td>Shelby (R-AL)</td>\n",
       "      <td>Nay</td>\n",
       "      <td>Tuberville (R-AL)</td>\n",
       "      <td>Nay</td>\n",
       "    </tr>\n",
       "    <tr>\n",
       "      <th>1</th>\n",
       "      <td>Alaska</td>\n",
       "      <td>Murkowski (R-AK)</td>\n",
       "      <td>Nay</td>\n",
       "      <td>Sullivan (R-AK)</td>\n",
       "      <td>Nay</td>\n",
       "    </tr>\n",
       "  </tbody>\n",
       "</table>\n",
       "</div>"
      ],
      "text/plain": [
       "      city           voter_1 vote_1            voter_2 vote_2\n",
       "0  Alabama     Shelby (R-AL)    Nay  Tuberville (R-AL)    Nay\n",
       "1   Alaska  Murkowski (R-AK)    Nay    Sullivan (R-AK)    Nay"
      ]
     },
     "execution_count": 50,
     "metadata": {},
     "output_type": "execute_result"
    }
   ],
   "source": [
    "state_wise_df.head(2)"
   ]
  },
  {
   "cell_type": "code",
   "execution_count": 51,
   "metadata": {
    "colab": {
     "base_uri": "https://localhost:8080/",
     "height": 143
    },
    "id": "KYdhs65LH9PT",
    "outputId": "13d4c106-04fc-45bc-ec00-d755e21c23ac"
   },
   "outputs": [
    {
     "data": {
      "text/html": [
       "<div>\n",
       "<style scoped>\n",
       "    .dataframe tbody tr th:only-of-type {\n",
       "        vertical-align: middle;\n",
       "    }\n",
       "\n",
       "    .dataframe tbody tr th {\n",
       "        vertical-align: top;\n",
       "    }\n",
       "\n",
       "    .dataframe thead th {\n",
       "        text-align: right;\n",
       "    }\n",
       "</style>\n",
       "<table border=\"1\" class=\"dataframe\">\n",
       "  <thead>\n",
       "    <tr style=\"text-align: right;\">\n",
       "      <th></th>\n",
       "      <th>0</th>\n",
       "      <th>1</th>\n",
       "    </tr>\n",
       "  </thead>\n",
       "  <tbody>\n",
       "    <tr>\n",
       "      <th>0</th>\n",
       "      <td>Shelby</td>\n",
       "      <td>R-AL)</td>\n",
       "    </tr>\n",
       "    <tr>\n",
       "      <th>1</th>\n",
       "      <td>Murkowski</td>\n",
       "      <td>R-AK)</td>\n",
       "    </tr>\n",
       "    <tr>\n",
       "      <th>2</th>\n",
       "      <td>Kelly</td>\n",
       "      <td>D-AZ)</td>\n",
       "    </tr>\n",
       "  </tbody>\n",
       "</table>\n",
       "</div>"
      ],
      "text/plain": [
       "            0      1\n",
       "0     Shelby   R-AL)\n",
       "1  Murkowski   R-AK)\n",
       "2      Kelly   D-AZ)"
      ]
     },
     "execution_count": 51,
     "metadata": {},
     "output_type": "execute_result"
    }
   ],
   "source": [
    "temp = state_wise_df[\"voter_1\"].str.split(r\"(\", expand=True)\n",
    "temp.head(3)"
   ]
  },
  {
   "cell_type": "code",
   "execution_count": 52,
   "metadata": {
    "id": "zT7_A6dsGdwN"
   },
   "outputs": [],
   "source": [
    "state_wise_df[['voter_1', 'r_or_d_1']] = temp = state_wise_df[\"voter_2\"].str.split(r\"(\", expand=True)\n",
    "state_wise_df[['voter_2', 'r_or_d_2']] = temp = state_wise_df[\"voter_2\"].str.split(r\"(\", expand=True)"
   ]
  },
  {
   "cell_type": "code",
   "execution_count": 53,
   "metadata": {
    "colab": {
     "base_uri": "https://localhost:8080/",
     "height": 143
    },
    "id": "Z7850wJQGlMA",
    "outputId": "53b88f96-22dd-47a0-984f-1ffe602ce58d"
   },
   "outputs": [
    {
     "data": {
      "text/html": [
       "<div>\n",
       "<style scoped>\n",
       "    .dataframe tbody tr th:only-of-type {\n",
       "        vertical-align: middle;\n",
       "    }\n",
       "\n",
       "    .dataframe tbody tr th {\n",
       "        vertical-align: top;\n",
       "    }\n",
       "\n",
       "    .dataframe thead th {\n",
       "        text-align: right;\n",
       "    }\n",
       "</style>\n",
       "<table border=\"1\" class=\"dataframe\">\n",
       "  <thead>\n",
       "    <tr style=\"text-align: right;\">\n",
       "      <th></th>\n",
       "      <th>city</th>\n",
       "      <th>voter_1</th>\n",
       "      <th>vote_1</th>\n",
       "      <th>voter_2</th>\n",
       "      <th>vote_2</th>\n",
       "      <th>r_or_d_1</th>\n",
       "      <th>r_or_d_2</th>\n",
       "    </tr>\n",
       "  </thead>\n",
       "  <tbody>\n",
       "    <tr>\n",
       "      <th>0</th>\n",
       "      <td>Alabama</td>\n",
       "      <td>Tuberville</td>\n",
       "      <td>Nay</td>\n",
       "      <td>Tuberville</td>\n",
       "      <td>Nay</td>\n",
       "      <td>R-AL)</td>\n",
       "      <td>R-AL)</td>\n",
       "    </tr>\n",
       "    <tr>\n",
       "      <th>1</th>\n",
       "      <td>Alaska</td>\n",
       "      <td>Sullivan</td>\n",
       "      <td>Nay</td>\n",
       "      <td>Sullivan</td>\n",
       "      <td>Nay</td>\n",
       "      <td>R-AK)</td>\n",
       "      <td>R-AK)</td>\n",
       "    </tr>\n",
       "    <tr>\n",
       "      <th>2</th>\n",
       "      <td>Arizona</td>\n",
       "      <td>Sinema</td>\n",
       "      <td>Yea</td>\n",
       "      <td>Sinema</td>\n",
       "      <td>Yea</td>\n",
       "      <td>D-AZ)</td>\n",
       "      <td>D-AZ)</td>\n",
       "    </tr>\n",
       "  </tbody>\n",
       "</table>\n",
       "</div>"
      ],
      "text/plain": [
       "      city      voter_1 vote_1      voter_2 vote_2 r_or_d_1 r_or_d_2\n",
       "0  Alabama  Tuberville     Nay  Tuberville     Nay    R-AL)    R-AL)\n",
       "1   Alaska    Sullivan     Nay    Sullivan     Nay    R-AK)    R-AK)\n",
       "2  Arizona      Sinema     Yea      Sinema     Yea    D-AZ)    D-AZ)"
      ]
     },
     "execution_count": 53,
     "metadata": {},
     "output_type": "execute_result"
    }
   ],
   "source": [
    "state_wise_df.head(3)"
   ]
  },
  {
   "cell_type": "code",
   "execution_count": 54,
   "metadata": {
    "colab": {
     "base_uri": "https://localhost:8080/"
    },
    "id": "J2pxq8t0KVcI",
    "outputId": "0182d42f-8d88-444e-e52a-a459b64413c1"
   },
   "outputs": [
    {
     "name": "stderr",
     "output_type": "stream",
     "text": [
      "/var/folders/vm/pmp1rbyn7g72543clq9jjhnr0000gn/T/ipykernel_58546/3571356089.py:1: UserWarning: This pattern is interpreted as a regular expression, and has match groups. To actually get the groups, use str.extract.\n",
      "  ans_13 = state_wise_df[(state_wise_df[\"r_or_d_1\"].str.contains(\"(^D.*)\")) & (state_wise_df[\"r_or_d_2\"].str.contains(\"(^D.*)\"))]\n"
     ]
    }
   ],
   "source": [
    "ans_13 = state_wise_df[(state_wise_df[\"r_or_d_1\"].str.contains(\"(^D.*)\")) & (state_wise_df[\"r_or_d_2\"].str.contains(\"(^D.*)\"))]"
   ]
  },
  {
   "cell_type": "code",
   "execution_count": 59,
   "metadata": {},
   "outputs": [
    {
     "data": {
      "text/html": [
       "<div>\n",
       "<style scoped>\n",
       "    .dataframe tbody tr th:only-of-type {\n",
       "        vertical-align: middle;\n",
       "    }\n",
       "\n",
       "    .dataframe tbody tr th {\n",
       "        vertical-align: top;\n",
       "    }\n",
       "\n",
       "    .dataframe thead th {\n",
       "        text-align: right;\n",
       "    }\n",
       "</style>\n",
       "<table border=\"1\" class=\"dataframe\">\n",
       "  <thead>\n",
       "    <tr style=\"text-align: right;\">\n",
       "      <th></th>\n",
       "      <th>city</th>\n",
       "      <th>voter_1</th>\n",
       "      <th>vote_1</th>\n",
       "      <th>voter_2</th>\n",
       "      <th>vote_2</th>\n",
       "      <th>r_or_d_1</th>\n",
       "      <th>r_or_d_2</th>\n",
       "    </tr>\n",
       "  </thead>\n",
       "  <tbody>\n",
       "    <tr>\n",
       "      <th>2</th>\n",
       "      <td>Arizona</td>\n",
       "      <td>Sinema</td>\n",
       "      <td>Yea</td>\n",
       "      <td>Sinema</td>\n",
       "      <td>Yea</td>\n",
       "      <td>D-AZ)</td>\n",
       "      <td>D-AZ)</td>\n",
       "    </tr>\n",
       "    <tr>\n",
       "      <th>4</th>\n",
       "      <td>California</td>\n",
       "      <td>Padilla</td>\n",
       "      <td>Yea</td>\n",
       "      <td>Padilla</td>\n",
       "      <td>Yea</td>\n",
       "      <td>D-CA)</td>\n",
       "      <td>D-CA)</td>\n",
       "    </tr>\n",
       "    <tr>\n",
       "      <th>5</th>\n",
       "      <td>Colorado</td>\n",
       "      <td>Hickenlooper</td>\n",
       "      <td>Yea</td>\n",
       "      <td>Hickenlooper</td>\n",
       "      <td>Yea</td>\n",
       "      <td>D-CO)</td>\n",
       "      <td>D-CO)</td>\n",
       "    </tr>\n",
       "    <tr>\n",
       "      <th>6</th>\n",
       "      <td>Connecticut</td>\n",
       "      <td>Murphy</td>\n",
       "      <td>Yea</td>\n",
       "      <td>Murphy</td>\n",
       "      <td>Yea</td>\n",
       "      <td>D-CT)</td>\n",
       "      <td>D-CT)</td>\n",
       "    </tr>\n",
       "    <tr>\n",
       "      <th>7</th>\n",
       "      <td>Delaware</td>\n",
       "      <td>Coons</td>\n",
       "      <td>Yea</td>\n",
       "      <td>Coons</td>\n",
       "      <td>Yea</td>\n",
       "      <td>D-DE)</td>\n",
       "      <td>D-DE)</td>\n",
       "    </tr>\n",
       "    <tr>\n",
       "      <th>9</th>\n",
       "      <td>Georgia</td>\n",
       "      <td>Warnock</td>\n",
       "      <td>Yea</td>\n",
       "      <td>Warnock</td>\n",
       "      <td>Yea</td>\n",
       "      <td>D-GA)</td>\n",
       "      <td>D-GA)</td>\n",
       "    </tr>\n",
       "    <tr>\n",
       "      <th>10</th>\n",
       "      <td>Hawaii</td>\n",
       "      <td>Schatz</td>\n",
       "      <td>Yea</td>\n",
       "      <td>Schatz</td>\n",
       "      <td>Yea</td>\n",
       "      <td>D-HI)</td>\n",
       "      <td>D-HI)</td>\n",
       "    </tr>\n",
       "    <tr>\n",
       "      <th>12</th>\n",
       "      <td>Illinois</td>\n",
       "      <td>Durbin</td>\n",
       "      <td>Yea</td>\n",
       "      <td>Durbin</td>\n",
       "      <td>Yea</td>\n",
       "      <td>D-IL)</td>\n",
       "      <td>D-IL)</td>\n",
       "    </tr>\n",
       "    <tr>\n",
       "      <th>19</th>\n",
       "      <td>Maryland</td>\n",
       "      <td>Van Hollen</td>\n",
       "      <td>Yea</td>\n",
       "      <td>Van Hollen</td>\n",
       "      <td>Yea</td>\n",
       "      <td>D-MD)</td>\n",
       "      <td>D-MD)</td>\n",
       "    </tr>\n",
       "    <tr>\n",
       "      <th>20</th>\n",
       "      <td>Massachusetts</td>\n",
       "      <td>Warren</td>\n",
       "      <td>Yea</td>\n",
       "      <td>Warren</td>\n",
       "      <td>Yea</td>\n",
       "      <td>D-MA)</td>\n",
       "      <td>D-MA)</td>\n",
       "    </tr>\n",
       "    <tr>\n",
       "      <th>21</th>\n",
       "      <td>Michigan</td>\n",
       "      <td>Stabenow</td>\n",
       "      <td>Yea</td>\n",
       "      <td>Stabenow</td>\n",
       "      <td>Yea</td>\n",
       "      <td>D-MI)</td>\n",
       "      <td>D-MI)</td>\n",
       "    </tr>\n",
       "    <tr>\n",
       "      <th>22</th>\n",
       "      <td>Minnesota</td>\n",
       "      <td>Smith</td>\n",
       "      <td>Yea</td>\n",
       "      <td>Smith</td>\n",
       "      <td>Yea</td>\n",
       "      <td>D-MN)</td>\n",
       "      <td>D-MN)</td>\n",
       "    </tr>\n",
       "    <tr>\n",
       "      <th>25</th>\n",
       "      <td>Montana</td>\n",
       "      <td>Tester</td>\n",
       "      <td>Nay</td>\n",
       "      <td>Tester</td>\n",
       "      <td>Yea</td>\n",
       "      <td>D-MT)</td>\n",
       "      <td>D-MT)</td>\n",
       "    </tr>\n",
       "    <tr>\n",
       "      <th>27</th>\n",
       "      <td>Nevada</td>\n",
       "      <td>Rosen</td>\n",
       "      <td>Yea</td>\n",
       "      <td>Rosen</td>\n",
       "      <td>Yea</td>\n",
       "      <td>D-NV)</td>\n",
       "      <td>D-NV)</td>\n",
       "    </tr>\n",
       "    <tr>\n",
       "      <th>28</th>\n",
       "      <td>New Hampshire</td>\n",
       "      <td>Shaheen</td>\n",
       "      <td>Yea</td>\n",
       "      <td>Shaheen</td>\n",
       "      <td>Yea</td>\n",
       "      <td>D-NH)</td>\n",
       "      <td>D-NH)</td>\n",
       "    </tr>\n",
       "    <tr>\n",
       "      <th>29</th>\n",
       "      <td>New Jersey</td>\n",
       "      <td>Menendez</td>\n",
       "      <td>Yea</td>\n",
       "      <td>Menendez</td>\n",
       "      <td>Yea</td>\n",
       "      <td>D-NJ)</td>\n",
       "      <td>D-NJ)</td>\n",
       "    </tr>\n",
       "    <tr>\n",
       "      <th>30</th>\n",
       "      <td>New Mexico</td>\n",
       "      <td>Lujan</td>\n",
       "      <td>Yea</td>\n",
       "      <td>Lujan</td>\n",
       "      <td>Yea</td>\n",
       "      <td>D-NM)</td>\n",
       "      <td>D-NM)</td>\n",
       "    </tr>\n",
       "    <tr>\n",
       "      <th>31</th>\n",
       "      <td>New York</td>\n",
       "      <td>Schumer</td>\n",
       "      <td>Yea</td>\n",
       "      <td>Schumer</td>\n",
       "      <td>Yea</td>\n",
       "      <td>D-NY)</td>\n",
       "      <td>D-NY)</td>\n",
       "    </tr>\n",
       "    <tr>\n",
       "      <th>36</th>\n",
       "      <td>Oregon</td>\n",
       "      <td>Wyden</td>\n",
       "      <td>Yea</td>\n",
       "      <td>Wyden</td>\n",
       "      <td>Yea</td>\n",
       "      <td>D-OR)</td>\n",
       "      <td>D-OR)</td>\n",
       "    </tr>\n",
       "    <tr>\n",
       "      <th>38</th>\n",
       "      <td>Rhode Island</td>\n",
       "      <td>Whitehouse</td>\n",
       "      <td>Yea</td>\n",
       "      <td>Whitehouse</td>\n",
       "      <td>Yea</td>\n",
       "      <td>D-RI)</td>\n",
       "      <td>D-RI)</td>\n",
       "    </tr>\n",
       "    <tr>\n",
       "      <th>45</th>\n",
       "      <td>Virginia</td>\n",
       "      <td>Warner</td>\n",
       "      <td>Yea</td>\n",
       "      <td>Warner</td>\n",
       "      <td>Yea</td>\n",
       "      <td>D-VA)</td>\n",
       "      <td>D-VA)</td>\n",
       "    </tr>\n",
       "    <tr>\n",
       "      <th>46</th>\n",
       "      <td>Washington</td>\n",
       "      <td>Murray</td>\n",
       "      <td>Yea</td>\n",
       "      <td>Murray</td>\n",
       "      <td>Yea</td>\n",
       "      <td>D-WA)</td>\n",
       "      <td>D-WA)</td>\n",
       "    </tr>\n",
       "    <tr>\n",
       "      <th>47</th>\n",
       "      <td>West Virginia</td>\n",
       "      <td>Manchin</td>\n",
       "      <td>Nay</td>\n",
       "      <td>Manchin</td>\n",
       "      <td>Yea</td>\n",
       "      <td>D-WV)</td>\n",
       "      <td>D-WV)</td>\n",
       "    </tr>\n",
       "  </tbody>\n",
       "</table>\n",
       "</div>"
      ],
      "text/plain": [
       "             city        voter_1 vote_1        voter_2 vote_2 r_or_d_1  \\\n",
       "2         Arizona        Sinema     Yea        Sinema     Yea    D-AZ)   \n",
       "4      California       Padilla     Yea       Padilla     Yea    D-CA)   \n",
       "5        Colorado  Hickenlooper     Yea  Hickenlooper     Yea    D-CO)   \n",
       "6     Connecticut        Murphy     Yea        Murphy     Yea    D-CT)   \n",
       "7        Delaware         Coons     Yea         Coons     Yea    D-DE)   \n",
       "9         Georgia       Warnock     Yea       Warnock     Yea    D-GA)   \n",
       "10         Hawaii        Schatz     Yea        Schatz     Yea    D-HI)   \n",
       "12       Illinois        Durbin     Yea        Durbin     Yea    D-IL)   \n",
       "19       Maryland    Van Hollen     Yea    Van Hollen     Yea    D-MD)   \n",
       "20  Massachusetts        Warren     Yea        Warren     Yea    D-MA)   \n",
       "21       Michigan      Stabenow     Yea      Stabenow     Yea    D-MI)   \n",
       "22      Minnesota         Smith     Yea         Smith     Yea    D-MN)   \n",
       "25        Montana        Tester     Nay        Tester     Yea    D-MT)   \n",
       "27         Nevada         Rosen     Yea         Rosen     Yea    D-NV)   \n",
       "28  New Hampshire       Shaheen     Yea       Shaheen     Yea    D-NH)   \n",
       "29     New Jersey      Menendez     Yea      Menendez     Yea    D-NJ)   \n",
       "30     New Mexico         Lujan     Yea         Lujan     Yea    D-NM)   \n",
       "31       New York       Schumer     Yea       Schumer     Yea    D-NY)   \n",
       "36         Oregon         Wyden     Yea         Wyden     Yea    D-OR)   \n",
       "38   Rhode Island    Whitehouse     Yea    Whitehouse     Yea    D-RI)   \n",
       "45       Virginia        Warner     Yea        Warner     Yea    D-VA)   \n",
       "46     Washington        Murray     Yea        Murray     Yea    D-WA)   \n",
       "47  West Virginia       Manchin     Nay       Manchin     Yea    D-WV)   \n",
       "\n",
       "   r_or_d_2  \n",
       "2     D-AZ)  \n",
       "4     D-CA)  \n",
       "5     D-CO)  \n",
       "6     D-CT)  \n",
       "7     D-DE)  \n",
       "9     D-GA)  \n",
       "10    D-HI)  \n",
       "12    D-IL)  \n",
       "19    D-MD)  \n",
       "20    D-MA)  \n",
       "21    D-MI)  \n",
       "22    D-MN)  \n",
       "25    D-MT)  \n",
       "27    D-NV)  \n",
       "28    D-NH)  \n",
       "29    D-NJ)  \n",
       "30    D-NM)  \n",
       "31    D-NY)  \n",
       "36    D-OR)  \n",
       "38    D-RI)  \n",
       "45    D-VA)  \n",
       "46    D-WA)  \n",
       "47    D-WV)  "
      ]
     },
     "execution_count": 59,
     "metadata": {},
     "output_type": "execute_result"
    }
   ],
   "source": [
    "ans_13"
   ]
  },
  {
   "cell_type": "code",
   "execution_count": 60,
   "metadata": {
    "colab": {
     "base_uri": "https://localhost:8080/"
    },
    "id": "FdXoP5V0KpX5",
    "outputId": "7017b15e-f21d-4d73-85f5-b4ac5ff46c5b"
   },
   "outputs": [
    {
     "data": {
      "text/plain": [
       "(23, 7)"
      ]
     },
     "execution_count": 60,
     "metadata": {},
     "output_type": "execute_result"
    }
   ],
   "source": [
    "ans_13.shape"
   ]
  },
  {
   "cell_type": "code",
   "execution_count": 56,
   "metadata": {
    "id": "YjHKyYtQLHMn"
   },
   "outputs": [],
   "source": [
    "answers[\"Q13\"] = 23"
   ]
  },
  {
   "cell_type": "code",
   "execution_count": null,
   "metadata": {
    "colab": {
     "base_uri": "https://localhost:8080/"
    },
    "id": "ohomJBpaLOtn",
    "outputId": "a3e7f33c-8bab-4c56-8ac9-f8ae87b75046"
   },
   "outputs": [],
   "source": []
  },
  {
   "cell_type": "code",
   "execution_count": 57,
   "metadata": {
    "id": "efbSoy9UMVAF"
   },
   "outputs": [],
   "source": [
    "answers[\"Q15\"] = 14.285"
   ]
  },
  {
   "cell_type": "code",
   "execution_count": 58,
   "metadata": {
    "id": "CmNAkMNpLnSY"
   },
   "outputs": [],
   "source": [
    "ordered_que = [\"Q12\", \"Q4\", \"Q11\", \"Q14\", \"Q3\", \"Q5\", \"Q15\", \"Q13\", \"Q1\", \"Q2\"]\n",
    "\n",
    "with open(r\"answers.csv\", \"w+\") as f:\n",
    "  for i in ordered_que:\n",
    "    text = f\"{i},{str(answers[i])}\"\n",
    "    f.write(text)\n",
    "    if i != ordered_que[-1]:\n",
    "      f.write(\"\\n\")\n",
    "\n",
    "\n"
   ]
  },
  {
   "cell_type": "code",
   "execution_count": null,
   "metadata": {
    "id": "tC6BeRBhMlyC"
   },
   "outputs": [],
   "source": []
  }
 ],
 "metadata": {
  "colab": {
   "collapsed_sections": [
    "48nuhw_lDGVn"
   ],
   "provenance": []
  },
  "kernelspec": {
   "display_name": "Python 3 (ipykernel)",
   "language": "python",
   "name": "python3"
  },
  "language_info": {
   "codemirror_mode": {
    "name": "ipython",
    "version": 3
   },
   "file_extension": ".py",
   "mimetype": "text/x-python",
   "name": "python",
   "nbconvert_exporter": "python",
   "pygments_lexer": "ipython3",
   "version": "3.9.13"
  }
 },
 "nbformat": 4,
 "nbformat_minor": 4
}
